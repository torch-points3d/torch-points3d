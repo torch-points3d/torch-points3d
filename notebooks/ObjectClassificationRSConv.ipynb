{
  "nbformat": 4,
  "nbformat_minor": 0,
  "metadata": {
    "accelerator": "GPU",
    "colab": {
      "name": "ObjectClassificationRSConv.ipynb",
      "provenance": [],
      "machine_shape": "hm",
      "include_colab_link": true
    },
    "kernelspec": {
      "display_name": "Python 3",
      "language": "python",
      "name": "python3"
    },
    "language_info": {
      "codemirror_mode": {
        "name": "ipython",
        "version": 3
      },
      "file_extension": ".py",
      "mimetype": "text/x-python",
      "name": "python",
      "nbconvert_exporter": "python",
      "pygments_lexer": "ipython3",
      "version": "3.6.10"
    },
    "widgets": {
      "application/vnd.jupyter.widget-state+json": {
        "9356ad5970d54c528b99a5123a60cea2": {
          "model_module": "@jupyter-widgets/controls",
          "model_name": "HBoxModel",
          "state": {
            "_view_name": "HBoxView",
            "_dom_classes": [],
            "_model_name": "HBoxModel",
            "_view_module": "@jupyter-widgets/controls",
            "_model_module_version": "1.5.0",
            "_view_count": null,
            "_view_module_version": "1.5.0",
            "box_style": "",
            "layout": "IPY_MODEL_d253410a9eb44a1fab5a67cdc5fdde42",
            "_model_module": "@jupyter-widgets/controls",
            "children": [
              "IPY_MODEL_c8152fed712f4c378f0c82949bd99c65",
              "IPY_MODEL_ba7c0485fe7e4189aa02c1605cf78f88"
            ]
          }
        },
        "d253410a9eb44a1fab5a67cdc5fdde42": {
          "model_module": "@jupyter-widgets/base",
          "model_name": "LayoutModel",
          "state": {
            "_view_name": "LayoutView",
            "grid_template_rows": null,
            "right": null,
            "justify_content": null,
            "_view_module": "@jupyter-widgets/base",
            "overflow": null,
            "_model_module_version": "1.2.0",
            "_view_count": null,
            "flex_flow": null,
            "width": null,
            "min_width": null,
            "border": null,
            "align_items": null,
            "bottom": null,
            "_model_module": "@jupyter-widgets/base",
            "top": null,
            "grid_column": null,
            "overflow_y": null,
            "overflow_x": null,
            "grid_auto_flow": null,
            "grid_area": null,
            "grid_template_columns": null,
            "flex": null,
            "_model_name": "LayoutModel",
            "justify_items": null,
            "grid_row": null,
            "max_height": null,
            "align_content": null,
            "visibility": null,
            "align_self": null,
            "height": null,
            "min_height": null,
            "padding": null,
            "grid_auto_rows": null,
            "grid_gap": null,
            "max_width": null,
            "order": null,
            "_view_module_version": "1.2.0",
            "grid_template_areas": null,
            "object_position": null,
            "object_fit": null,
            "grid_auto_columns": null,
            "margin": null,
            "display": null,
            "left": null
          }
        },
        "c8152fed712f4c378f0c82949bd99c65": {
          "model_module": "@jupyter-widgets/controls",
          "model_name": "FloatProgressModel",
          "state": {
            "_view_name": "ProgressView",
            "style": "IPY_MODEL_f7f0d425bce54f0fa0a7a1029a8df3a0",
            "_dom_classes": [],
            "description": "100%",
            "_model_name": "FloatProgressModel",
            "bar_style": "success",
            "max": 821,
            "_view_module": "@jupyter-widgets/controls",
            "_model_module_version": "1.5.0",
            "value": 821,
            "_view_count": null,
            "_view_module_version": "1.5.0",
            "orientation": "horizontal",
            "min": 0,
            "description_tooltip": null,
            "_model_module": "@jupyter-widgets/controls",
            "layout": "IPY_MODEL_2151ee6bc3244827b5d58268d4afa180"
          }
        },
        "ba7c0485fe7e4189aa02c1605cf78f88": {
          "model_module": "@jupyter-widgets/controls",
          "model_name": "HTMLModel",
          "state": {
            "_view_name": "HTMLView",
            "style": "IPY_MODEL_18d339a777454f3ea9d904565d1b039c",
            "_dom_classes": [],
            "description": "",
            "_model_name": "HTMLModel",
            "placeholder": "​",
            "_view_module": "@jupyter-widgets/controls",
            "_model_module_version": "1.5.0",
            "value": " 821/821 [12:41&lt;00:00,  1.08it/s, data_loading=0.004, iteration=0.080, train_acc=46.78, train_loss_class=2.167]",
            "_view_count": null,
            "_view_module_version": "1.5.0",
            "description_tooltip": null,
            "_model_module": "@jupyter-widgets/controls",
            "layout": "IPY_MODEL_7c4b51b608344736a48c79225acde1b9"
          }
        },
        "f7f0d425bce54f0fa0a7a1029a8df3a0": {
          "model_module": "@jupyter-widgets/controls",
          "model_name": "ProgressStyleModel",
          "state": {
            "_view_name": "StyleView",
            "_model_name": "ProgressStyleModel",
            "description_width": "initial",
            "_view_module": "@jupyter-widgets/base",
            "_model_module_version": "1.5.0",
            "_view_count": null,
            "_view_module_version": "1.2.0",
            "bar_color": null,
            "_model_module": "@jupyter-widgets/controls"
          }
        },
        "2151ee6bc3244827b5d58268d4afa180": {
          "model_module": "@jupyter-widgets/base",
          "model_name": "LayoutModel",
          "state": {
            "_view_name": "LayoutView",
            "grid_template_rows": null,
            "right": null,
            "justify_content": null,
            "_view_module": "@jupyter-widgets/base",
            "overflow": null,
            "_model_module_version": "1.2.0",
            "_view_count": null,
            "flex_flow": null,
            "width": null,
            "min_width": null,
            "border": null,
            "align_items": null,
            "bottom": null,
            "_model_module": "@jupyter-widgets/base",
            "top": null,
            "grid_column": null,
            "overflow_y": null,
            "overflow_x": null,
            "grid_auto_flow": null,
            "grid_area": null,
            "grid_template_columns": null,
            "flex": null,
            "_model_name": "LayoutModel",
            "justify_items": null,
            "grid_row": null,
            "max_height": null,
            "align_content": null,
            "visibility": null,
            "align_self": null,
            "height": null,
            "min_height": null,
            "padding": null,
            "grid_auto_rows": null,
            "grid_gap": null,
            "max_width": null,
            "order": null,
            "_view_module_version": "1.2.0",
            "grid_template_areas": null,
            "object_position": null,
            "object_fit": null,
            "grid_auto_columns": null,
            "margin": null,
            "display": null,
            "left": null
          }
        },
        "18d339a777454f3ea9d904565d1b039c": {
          "model_module": "@jupyter-widgets/controls",
          "model_name": "DescriptionStyleModel",
          "state": {
            "_view_name": "StyleView",
            "_model_name": "DescriptionStyleModel",
            "description_width": "",
            "_view_module": "@jupyter-widgets/base",
            "_model_module_version": "1.5.0",
            "_view_count": null,
            "_view_module_version": "1.2.0",
            "_model_module": "@jupyter-widgets/controls"
          }
        },
        "7c4b51b608344736a48c79225acde1b9": {
          "model_module": "@jupyter-widgets/base",
          "model_name": "LayoutModel",
          "state": {
            "_view_name": "LayoutView",
            "grid_template_rows": null,
            "right": null,
            "justify_content": null,
            "_view_module": "@jupyter-widgets/base",
            "overflow": null,
            "_model_module_version": "1.2.0",
            "_view_count": null,
            "flex_flow": null,
            "width": null,
            "min_width": null,
            "border": null,
            "align_items": null,
            "bottom": null,
            "_model_module": "@jupyter-widgets/base",
            "top": null,
            "grid_column": null,
            "overflow_y": null,
            "overflow_x": null,
            "grid_auto_flow": null,
            "grid_area": null,
            "grid_template_columns": null,
            "flex": null,
            "_model_name": "LayoutModel",
            "justify_items": null,
            "grid_row": null,
            "max_height": null,
            "align_content": null,
            "visibility": null,
            "align_self": null,
            "height": null,
            "min_height": null,
            "padding": null,
            "grid_auto_rows": null,
            "grid_gap": null,
            "max_width": null,
            "order": null,
            "_view_module_version": "1.2.0",
            "grid_template_areas": null,
            "object_position": null,
            "object_fit": null,
            "grid_auto_columns": null,
            "margin": null,
            "display": null,
            "left": null
          }
        },
        "451ef9e739ab4102b7e81e25cf606cf3": {
          "model_module": "@jupyter-widgets/controls",
          "model_name": "HBoxModel",
          "state": {
            "_view_name": "HBoxView",
            "_dom_classes": [],
            "_model_name": "HBoxModel",
            "_view_module": "@jupyter-widgets/controls",
            "_model_module_version": "1.5.0",
            "_view_count": null,
            "_view_module_version": "1.5.0",
            "box_style": "",
            "layout": "IPY_MODEL_36d24f0eb1954d6e9046f1786bdb3d37",
            "_model_module": "@jupyter-widgets/controls",
            "children": [
              "IPY_MODEL_3de667f1bc2844edb625df5b5e5a0a81",
              "IPY_MODEL_b8b930418bcb43fd8e0827cf15bba828"
            ]
          }
        },
        "36d24f0eb1954d6e9046f1786bdb3d37": {
          "model_module": "@jupyter-widgets/base",
          "model_name": "LayoutModel",
          "state": {
            "_view_name": "LayoutView",
            "grid_template_rows": null,
            "right": null,
            "justify_content": null,
            "_view_module": "@jupyter-widgets/base",
            "overflow": null,
            "_model_module_version": "1.2.0",
            "_view_count": null,
            "flex_flow": null,
            "width": null,
            "min_width": null,
            "border": null,
            "align_items": null,
            "bottom": null,
            "_model_module": "@jupyter-widgets/base",
            "top": null,
            "grid_column": null,
            "overflow_y": null,
            "overflow_x": null,
            "grid_auto_flow": null,
            "grid_area": null,
            "grid_template_columns": null,
            "flex": null,
            "_model_name": "LayoutModel",
            "justify_items": null,
            "grid_row": null,
            "max_height": null,
            "align_content": null,
            "visibility": null,
            "align_self": null,
            "height": null,
            "min_height": null,
            "padding": null,
            "grid_auto_rows": null,
            "grid_gap": null,
            "max_width": null,
            "order": null,
            "_view_module_version": "1.2.0",
            "grid_template_areas": null,
            "object_position": null,
            "object_fit": null,
            "grid_auto_columns": null,
            "margin": null,
            "display": null,
            "left": null
          }
        },
        "3de667f1bc2844edb625df5b5e5a0a81": {
          "model_module": "@jupyter-widgets/controls",
          "model_name": "FloatProgressModel",
          "state": {
            "_view_name": "ProgressView",
            "style": "IPY_MODEL_dbed69f8b4434f0f807d77e2ec475cb6",
            "_dom_classes": [],
            "description": "100%",
            "_model_name": "FloatProgressModel",
            "bar_style": "success",
            "max": 206,
            "_view_module": "@jupyter-widgets/controls",
            "_model_module_version": "1.5.0",
            "value": 206,
            "_view_count": null,
            "_view_module_version": "1.5.0",
            "orientation": "horizontal",
            "min": 0,
            "description_tooltip": null,
            "_model_module": "@jupyter-widgets/controls",
            "layout": "IPY_MODEL_eb6e8b18cb6d4d07bfd1efdd4497e20a"
          }
        },
        "b8b930418bcb43fd8e0827cf15bba828": {
          "model_module": "@jupyter-widgets/controls",
          "model_name": "HTMLModel",
          "state": {
            "_view_name": "HTMLView",
            "style": "IPY_MODEL_678f0a76a0a24300ae00431bc7e7089b",
            "_dom_classes": [],
            "description": "",
            "_model_name": "HTMLModel",
            "placeholder": "​",
            "_view_module": "@jupyter-widgets/controls",
            "_model_module_version": "1.5.0",
            "value": " 206/206 [10:21&lt;00:00,  3.02s/it, data_loading=0.005, iteration=0.045, test_acc=61.69, test_loss_class=1.463]",
            "_view_count": null,
            "_view_module_version": "1.5.0",
            "description_tooltip": null,
            "_model_module": "@jupyter-widgets/controls",
            "layout": "IPY_MODEL_4b824a8f1c5f4b6fbfc3207a4d004d4a"
          }
        },
        "dbed69f8b4434f0f807d77e2ec475cb6": {
          "model_module": "@jupyter-widgets/controls",
          "model_name": "ProgressStyleModel",
          "state": {
            "_view_name": "StyleView",
            "_model_name": "ProgressStyleModel",
            "description_width": "initial",
            "_view_module": "@jupyter-widgets/base",
            "_model_module_version": "1.5.0",
            "_view_count": null,
            "_view_module_version": "1.2.0",
            "bar_color": null,
            "_model_module": "@jupyter-widgets/controls"
          }
        },
        "eb6e8b18cb6d4d07bfd1efdd4497e20a": {
          "model_module": "@jupyter-widgets/base",
          "model_name": "LayoutModel",
          "state": {
            "_view_name": "LayoutView",
            "grid_template_rows": null,
            "right": null,
            "justify_content": null,
            "_view_module": "@jupyter-widgets/base",
            "overflow": null,
            "_model_module_version": "1.2.0",
            "_view_count": null,
            "flex_flow": null,
            "width": null,
            "min_width": null,
            "border": null,
            "align_items": null,
            "bottom": null,
            "_model_module": "@jupyter-widgets/base",
            "top": null,
            "grid_column": null,
            "overflow_y": null,
            "overflow_x": null,
            "grid_auto_flow": null,
            "grid_area": null,
            "grid_template_columns": null,
            "flex": null,
            "_model_name": "LayoutModel",
            "justify_items": null,
            "grid_row": null,
            "max_height": null,
            "align_content": null,
            "visibility": null,
            "align_self": null,
            "height": null,
            "min_height": null,
            "padding": null,
            "grid_auto_rows": null,
            "grid_gap": null,
            "max_width": null,
            "order": null,
            "_view_module_version": "1.2.0",
            "grid_template_areas": null,
            "object_position": null,
            "object_fit": null,
            "grid_auto_columns": null,
            "margin": null,
            "display": null,
            "left": null
          }
        },
        "678f0a76a0a24300ae00431bc7e7089b": {
          "model_module": "@jupyter-widgets/controls",
          "model_name": "DescriptionStyleModel",
          "state": {
            "_view_name": "StyleView",
            "_model_name": "DescriptionStyleModel",
            "description_width": "",
            "_view_module": "@jupyter-widgets/base",
            "_model_module_version": "1.5.0",
            "_view_count": null,
            "_view_module_version": "1.2.0",
            "_model_module": "@jupyter-widgets/controls"
          }
        },
        "4b824a8f1c5f4b6fbfc3207a4d004d4a": {
          "model_module": "@jupyter-widgets/base",
          "model_name": "LayoutModel",
          "state": {
            "_view_name": "LayoutView",
            "grid_template_rows": null,
            "right": null,
            "justify_content": null,
            "_view_module": "@jupyter-widgets/base",
            "overflow": null,
            "_model_module_version": "1.2.0",
            "_view_count": null,
            "flex_flow": null,
            "width": null,
            "min_width": null,
            "border": null,
            "align_items": null,
            "bottom": null,
            "_model_module": "@jupyter-widgets/base",
            "top": null,
            "grid_column": null,
            "overflow_y": null,
            "overflow_x": null,
            "grid_auto_flow": null,
            "grid_area": null,
            "grid_template_columns": null,
            "flex": null,
            "_model_name": "LayoutModel",
            "justify_items": null,
            "grid_row": null,
            "max_height": null,
            "align_content": null,
            "visibility": null,
            "align_self": null,
            "height": null,
            "min_height": null,
            "padding": null,
            "grid_auto_rows": null,
            "grid_gap": null,
            "max_width": null,
            "order": null,
            "_view_module_version": "1.2.0",
            "grid_template_areas": null,
            "object_position": null,
            "object_fit": null,
            "grid_auto_columns": null,
            "margin": null,
            "display": null,
            "left": null
          }
        },
        "3ab9bdfebdb742e8a58072743bb73b20": {
          "model_module": "@jupyter-widgets/controls",
          "model_name": "HBoxModel",
          "state": {
            "_view_name": "HBoxView",
            "_dom_classes": [],
            "_model_name": "HBoxModel",
            "_view_module": "@jupyter-widgets/controls",
            "_model_module_version": "1.5.0",
            "_view_count": null,
            "_view_module_version": "1.5.0",
            "box_style": "",
            "layout": "IPY_MODEL_dc5797a405bf420abd94e722239859a9",
            "_model_module": "@jupyter-widgets/controls",
            "children": [
              "IPY_MODEL_07dcbf9a1d97499c8edd32a96c3a443e",
              "IPY_MODEL_d2478fba243d40ba8b6c324fd33a2ef2"
            ]
          }
        },
        "dc5797a405bf420abd94e722239859a9": {
          "model_module": "@jupyter-widgets/base",
          "model_name": "LayoutModel",
          "state": {
            "_view_name": "LayoutView",
            "grid_template_rows": null,
            "right": null,
            "justify_content": null,
            "_view_module": "@jupyter-widgets/base",
            "overflow": null,
            "_model_module_version": "1.2.0",
            "_view_count": null,
            "flex_flow": null,
            "width": null,
            "min_width": null,
            "border": null,
            "align_items": null,
            "bottom": null,
            "_model_module": "@jupyter-widgets/base",
            "top": null,
            "grid_column": null,
            "overflow_y": null,
            "overflow_x": null,
            "grid_auto_flow": null,
            "grid_area": null,
            "grid_template_columns": null,
            "flex": null,
            "_model_name": "LayoutModel",
            "justify_items": null,
            "grid_row": null,
            "max_height": null,
            "align_content": null,
            "visibility": null,
            "align_self": null,
            "height": null,
            "min_height": null,
            "padding": null,
            "grid_auto_rows": null,
            "grid_gap": null,
            "max_width": null,
            "order": null,
            "_view_module_version": "1.2.0",
            "grid_template_areas": null,
            "object_position": null,
            "object_fit": null,
            "grid_auto_columns": null,
            "margin": null,
            "display": null,
            "left": null
          }
        },
        "07dcbf9a1d97499c8edd32a96c3a443e": {
          "model_module": "@jupyter-widgets/controls",
          "model_name": "FloatProgressModel",
          "state": {
            "_view_name": "ProgressView",
            "style": "IPY_MODEL_710df54acf3746e08f4558d153e45e37",
            "_dom_classes": [],
            "description": "100%",
            "_model_name": "FloatProgressModel",
            "bar_style": "success",
            "max": 821,
            "_view_module": "@jupyter-widgets/controls",
            "_model_module_version": "1.5.0",
            "value": 821,
            "_view_count": null,
            "_view_module_version": "1.5.0",
            "orientation": "horizontal",
            "min": 0,
            "description_tooltip": null,
            "_model_module": "@jupyter-widgets/controls",
            "layout": "IPY_MODEL_e333f564560d40e6843a1a41f064cf35"
          }
        },
        "d2478fba243d40ba8b6c324fd33a2ef2": {
          "model_module": "@jupyter-widgets/controls",
          "model_name": "HTMLModel",
          "state": {
            "_view_name": "HTMLView",
            "style": "IPY_MODEL_90ec695d548642d180d8497a30a2b1f4",
            "_dom_classes": [],
            "description": "",
            "_model_name": "HTMLModel",
            "placeholder": "​",
            "_view_module": "@jupyter-widgets/controls",
            "_model_module_version": "1.5.0",
            "value": " 821/821 [02:21&lt;00:00,  5.81it/s, data_loading=0.005, iteration=0.082, train_acc=56.72, train_loss_class=1.545]",
            "_view_count": null,
            "_view_module_version": "1.5.0",
            "description_tooltip": null,
            "_model_module": "@jupyter-widgets/controls",
            "layout": "IPY_MODEL_796f9f7b5a934149b0122c69624411d0"
          }
        },
        "710df54acf3746e08f4558d153e45e37": {
          "model_module": "@jupyter-widgets/controls",
          "model_name": "ProgressStyleModel",
          "state": {
            "_view_name": "StyleView",
            "_model_name": "ProgressStyleModel",
            "description_width": "initial",
            "_view_module": "@jupyter-widgets/base",
            "_model_module_version": "1.5.0",
            "_view_count": null,
            "_view_module_version": "1.2.0",
            "bar_color": null,
            "_model_module": "@jupyter-widgets/controls"
          }
        },
        "e333f564560d40e6843a1a41f064cf35": {
          "model_module": "@jupyter-widgets/base",
          "model_name": "LayoutModel",
          "state": {
            "_view_name": "LayoutView",
            "grid_template_rows": null,
            "right": null,
            "justify_content": null,
            "_view_module": "@jupyter-widgets/base",
            "overflow": null,
            "_model_module_version": "1.2.0",
            "_view_count": null,
            "flex_flow": null,
            "width": null,
            "min_width": null,
            "border": null,
            "align_items": null,
            "bottom": null,
            "_model_module": "@jupyter-widgets/base",
            "top": null,
            "grid_column": null,
            "overflow_y": null,
            "overflow_x": null,
            "grid_auto_flow": null,
            "grid_area": null,
            "grid_template_columns": null,
            "flex": null,
            "_model_name": "LayoutModel",
            "justify_items": null,
            "grid_row": null,
            "max_height": null,
            "align_content": null,
            "visibility": null,
            "align_self": null,
            "height": null,
            "min_height": null,
            "padding": null,
            "grid_auto_rows": null,
            "grid_gap": null,
            "max_width": null,
            "order": null,
            "_view_module_version": "1.2.0",
            "grid_template_areas": null,
            "object_position": null,
            "object_fit": null,
            "grid_auto_columns": null,
            "margin": null,
            "display": null,
            "left": null
          }
        },
        "90ec695d548642d180d8497a30a2b1f4": {
          "model_module": "@jupyter-widgets/controls",
          "model_name": "DescriptionStyleModel",
          "state": {
            "_view_name": "StyleView",
            "_model_name": "DescriptionStyleModel",
            "description_width": "",
            "_view_module": "@jupyter-widgets/base",
            "_model_module_version": "1.5.0",
            "_view_count": null,
            "_view_module_version": "1.2.0",
            "_model_module": "@jupyter-widgets/controls"
          }
        },
        "796f9f7b5a934149b0122c69624411d0": {
          "model_module": "@jupyter-widgets/base",
          "model_name": "LayoutModel",
          "state": {
            "_view_name": "LayoutView",
            "grid_template_rows": null,
            "right": null,
            "justify_content": null,
            "_view_module": "@jupyter-widgets/base",
            "overflow": null,
            "_model_module_version": "1.2.0",
            "_view_count": null,
            "flex_flow": null,
            "width": null,
            "min_width": null,
            "border": null,
            "align_items": null,
            "bottom": null,
            "_model_module": "@jupyter-widgets/base",
            "top": null,
            "grid_column": null,
            "overflow_y": null,
            "overflow_x": null,
            "grid_auto_flow": null,
            "grid_area": null,
            "grid_template_columns": null,
            "flex": null,
            "_model_name": "LayoutModel",
            "justify_items": null,
            "grid_row": null,
            "max_height": null,
            "align_content": null,
            "visibility": null,
            "align_self": null,
            "height": null,
            "min_height": null,
            "padding": null,
            "grid_auto_rows": null,
            "grid_gap": null,
            "max_width": null,
            "order": null,
            "_view_module_version": "1.2.0",
            "grid_template_areas": null,
            "object_position": null,
            "object_fit": null,
            "grid_auto_columns": null,
            "margin": null,
            "display": null,
            "left": null
          }
        },
        "d3ea1518f7db4cdd8a679819168c2164": {
          "model_module": "@jupyter-widgets/controls",
          "model_name": "HBoxModel",
          "state": {
            "_view_name": "HBoxView",
            "_dom_classes": [],
            "_model_name": "HBoxModel",
            "_view_module": "@jupyter-widgets/controls",
            "_model_module_version": "1.5.0",
            "_view_count": null,
            "_view_module_version": "1.5.0",
            "box_style": "",
            "layout": "IPY_MODEL_d2bcb9b9fe67455abb7b65ae23f1128e",
            "_model_module": "@jupyter-widgets/controls",
            "children": [
              "IPY_MODEL_4df14c2b484a4344b048ba37666c38a6",
              "IPY_MODEL_e6318da159e74bc0a90eac731875fef0"
            ]
          }
        },
        "d2bcb9b9fe67455abb7b65ae23f1128e": {
          "model_module": "@jupyter-widgets/base",
          "model_name": "LayoutModel",
          "state": {
            "_view_name": "LayoutView",
            "grid_template_rows": null,
            "right": null,
            "justify_content": null,
            "_view_module": "@jupyter-widgets/base",
            "overflow": null,
            "_model_module_version": "1.2.0",
            "_view_count": null,
            "flex_flow": null,
            "width": null,
            "min_width": null,
            "border": null,
            "align_items": null,
            "bottom": null,
            "_model_module": "@jupyter-widgets/base",
            "top": null,
            "grid_column": null,
            "overflow_y": null,
            "overflow_x": null,
            "grid_auto_flow": null,
            "grid_area": null,
            "grid_template_columns": null,
            "flex": null,
            "_model_name": "LayoutModel",
            "justify_items": null,
            "grid_row": null,
            "max_height": null,
            "align_content": null,
            "visibility": null,
            "align_self": null,
            "height": null,
            "min_height": null,
            "padding": null,
            "grid_auto_rows": null,
            "grid_gap": null,
            "max_width": null,
            "order": null,
            "_view_module_version": "1.2.0",
            "grid_template_areas": null,
            "object_position": null,
            "object_fit": null,
            "grid_auto_columns": null,
            "margin": null,
            "display": null,
            "left": null
          }
        },
        "4df14c2b484a4344b048ba37666c38a6": {
          "model_module": "@jupyter-widgets/controls",
          "model_name": "FloatProgressModel",
          "state": {
            "_view_name": "ProgressView",
            "style": "IPY_MODEL_f435adc8a0904b12a5c59ecc6dcd391c",
            "_dom_classes": [],
            "description": "100%",
            "_model_name": "FloatProgressModel",
            "bar_style": "success",
            "max": 206,
            "_view_module": "@jupyter-widgets/controls",
            "_model_module_version": "1.5.0",
            "value": 206,
            "_view_count": null,
            "_view_module_version": "1.5.0",
            "orientation": "horizontal",
            "min": 0,
            "description_tooltip": null,
            "_model_module": "@jupyter-widgets/controls",
            "layout": "IPY_MODEL_a4cb579db2ae4416b3f041632ff6a1f6"
          }
        },
        "e6318da159e74bc0a90eac731875fef0": {
          "model_module": "@jupyter-widgets/controls",
          "model_name": "HTMLModel",
          "state": {
            "_view_name": "HTMLView",
            "style": "IPY_MODEL_c75b805e551e48dbbbc39871d4b70a6a",
            "_dom_classes": [],
            "description": "",
            "_model_name": "HTMLModel",
            "placeholder": "​",
            "_view_module": "@jupyter-widgets/controls",
            "_model_module_version": "1.5.0",
            "value": " 206/206 [07:46&lt;00:00,  2.26s/it, data_loading=0.005, iteration=0.044, test_acc=70.63, test_loss_class=1.069]",
            "_view_count": null,
            "_view_module_version": "1.5.0",
            "description_tooltip": null,
            "_model_module": "@jupyter-widgets/controls",
            "layout": "IPY_MODEL_ab7a1682a0db4f0288c2466e548ff1c8"
          }
        },
        "f435adc8a0904b12a5c59ecc6dcd391c": {
          "model_module": "@jupyter-widgets/controls",
          "model_name": "ProgressStyleModel",
          "state": {
            "_view_name": "StyleView",
            "_model_name": "ProgressStyleModel",
            "description_width": "initial",
            "_view_module": "@jupyter-widgets/base",
            "_model_module_version": "1.5.0",
            "_view_count": null,
            "_view_module_version": "1.2.0",
            "bar_color": null,
            "_model_module": "@jupyter-widgets/controls"
          }
        },
        "a4cb579db2ae4416b3f041632ff6a1f6": {
          "model_module": "@jupyter-widgets/base",
          "model_name": "LayoutModel",
          "state": {
            "_view_name": "LayoutView",
            "grid_template_rows": null,
            "right": null,
            "justify_content": null,
            "_view_module": "@jupyter-widgets/base",
            "overflow": null,
            "_model_module_version": "1.2.0",
            "_view_count": null,
            "flex_flow": null,
            "width": null,
            "min_width": null,
            "border": null,
            "align_items": null,
            "bottom": null,
            "_model_module": "@jupyter-widgets/base",
            "top": null,
            "grid_column": null,
            "overflow_y": null,
            "overflow_x": null,
            "grid_auto_flow": null,
            "grid_area": null,
            "grid_template_columns": null,
            "flex": null,
            "_model_name": "LayoutModel",
            "justify_items": null,
            "grid_row": null,
            "max_height": null,
            "align_content": null,
            "visibility": null,
            "align_self": null,
            "height": null,
            "min_height": null,
            "padding": null,
            "grid_auto_rows": null,
            "grid_gap": null,
            "max_width": null,
            "order": null,
            "_view_module_version": "1.2.0",
            "grid_template_areas": null,
            "object_position": null,
            "object_fit": null,
            "grid_auto_columns": null,
            "margin": null,
            "display": null,
            "left": null
          }
        },
        "c75b805e551e48dbbbc39871d4b70a6a": {
          "model_module": "@jupyter-widgets/controls",
          "model_name": "DescriptionStyleModel",
          "state": {
            "_view_name": "StyleView",
            "_model_name": "DescriptionStyleModel",
            "description_width": "",
            "_view_module": "@jupyter-widgets/base",
            "_model_module_version": "1.5.0",
            "_view_count": null,
            "_view_module_version": "1.2.0",
            "_model_module": "@jupyter-widgets/controls"
          }
        },
        "ab7a1682a0db4f0288c2466e548ff1c8": {
          "model_module": "@jupyter-widgets/base",
          "model_name": "LayoutModel",
          "state": {
            "_view_name": "LayoutView",
            "grid_template_rows": null,
            "right": null,
            "justify_content": null,
            "_view_module": "@jupyter-widgets/base",
            "overflow": null,
            "_model_module_version": "1.2.0",
            "_view_count": null,
            "flex_flow": null,
            "width": null,
            "min_width": null,
            "border": null,
            "align_items": null,
            "bottom": null,
            "_model_module": "@jupyter-widgets/base",
            "top": null,
            "grid_column": null,
            "overflow_y": null,
            "overflow_x": null,
            "grid_auto_flow": null,
            "grid_area": null,
            "grid_template_columns": null,
            "flex": null,
            "_model_name": "LayoutModel",
            "justify_items": null,
            "grid_row": null,
            "max_height": null,
            "align_content": null,
            "visibility": null,
            "align_self": null,
            "height": null,
            "min_height": null,
            "padding": null,
            "grid_auto_rows": null,
            "grid_gap": null,
            "max_width": null,
            "order": null,
            "_view_module_version": "1.2.0",
            "grid_template_areas": null,
            "object_position": null,
            "object_fit": null,
            "grid_auto_columns": null,
            "margin": null,
            "display": null,
            "left": null
          }
        },
        "b502cd2db737485abef2a26ec82bcc28": {
          "model_module": "@jupyter-widgets/controls",
          "model_name": "HBoxModel",
          "state": {
            "_view_name": "HBoxView",
            "_dom_classes": [],
            "_model_name": "HBoxModel",
            "_view_module": "@jupyter-widgets/controls",
            "_model_module_version": "1.5.0",
            "_view_count": null,
            "_view_module_version": "1.5.0",
            "box_style": "",
            "layout": "IPY_MODEL_95a73ae5d0684b60841335ac8787d975",
            "_model_module": "@jupyter-widgets/controls",
            "children": [
              "IPY_MODEL_c53c0cec649846dba3d97c30a5b2f233",
              "IPY_MODEL_c9182db9655649218188fa900b632d7f"
            ]
          }
        },
        "95a73ae5d0684b60841335ac8787d975": {
          "model_module": "@jupyter-widgets/base",
          "model_name": "LayoutModel",
          "state": {
            "_view_name": "LayoutView",
            "grid_template_rows": null,
            "right": null,
            "justify_content": null,
            "_view_module": "@jupyter-widgets/base",
            "overflow": null,
            "_model_module_version": "1.2.0",
            "_view_count": null,
            "flex_flow": null,
            "width": null,
            "min_width": null,
            "border": null,
            "align_items": null,
            "bottom": null,
            "_model_module": "@jupyter-widgets/base",
            "top": null,
            "grid_column": null,
            "overflow_y": null,
            "overflow_x": null,
            "grid_auto_flow": null,
            "grid_area": null,
            "grid_template_columns": null,
            "flex": null,
            "_model_name": "LayoutModel",
            "justify_items": null,
            "grid_row": null,
            "max_height": null,
            "align_content": null,
            "visibility": null,
            "align_self": null,
            "height": null,
            "min_height": null,
            "padding": null,
            "grid_auto_rows": null,
            "grid_gap": null,
            "max_width": null,
            "order": null,
            "_view_module_version": "1.2.0",
            "grid_template_areas": null,
            "object_position": null,
            "object_fit": null,
            "grid_auto_columns": null,
            "margin": null,
            "display": null,
            "left": null
          }
        },
        "c53c0cec649846dba3d97c30a5b2f233": {
          "model_module": "@jupyter-widgets/controls",
          "model_name": "FloatProgressModel",
          "state": {
            "_view_name": "ProgressView",
            "style": "IPY_MODEL_247f4c66af62407c9ac40c3b7f77246b",
            "_dom_classes": [],
            "description": "100%",
            "_model_name": "FloatProgressModel",
            "bar_style": "success",
            "max": 821,
            "_view_module": "@jupyter-widgets/controls",
            "_model_module_version": "1.5.0",
            "value": 821,
            "_view_count": null,
            "_view_module_version": "1.5.0",
            "orientation": "horizontal",
            "min": 0,
            "description_tooltip": null,
            "_model_module": "@jupyter-widgets/controls",
            "layout": "IPY_MODEL_ceca76b477d1489597b3a31cd2cc4546"
          }
        },
        "c9182db9655649218188fa900b632d7f": {
          "model_module": "@jupyter-widgets/controls",
          "model_name": "HTMLModel",
          "state": {
            "_view_name": "HTMLView",
            "style": "IPY_MODEL_84cb21f4748d46128cc3d7ba28a0128a",
            "_dom_classes": [],
            "description": "",
            "_model_name": "HTMLModel",
            "placeholder": "​",
            "_view_module": "@jupyter-widgets/controls",
            "_model_module_version": "1.5.0",
            "value": " 821/821 [02:23&lt;00:00,  5.73it/s, data_loading=0.005, iteration=0.081, train_acc=67.26, train_loss_class=1.15 ]",
            "_view_count": null,
            "_view_module_version": "1.5.0",
            "description_tooltip": null,
            "_model_module": "@jupyter-widgets/controls",
            "layout": "IPY_MODEL_b3c3c260212c458db1b69f4374b9293d"
          }
        },
        "247f4c66af62407c9ac40c3b7f77246b": {
          "model_module": "@jupyter-widgets/controls",
          "model_name": "ProgressStyleModel",
          "state": {
            "_view_name": "StyleView",
            "_model_name": "ProgressStyleModel",
            "description_width": "initial",
            "_view_module": "@jupyter-widgets/base",
            "_model_module_version": "1.5.0",
            "_view_count": null,
            "_view_module_version": "1.2.0",
            "bar_color": null,
            "_model_module": "@jupyter-widgets/controls"
          }
        },
        "ceca76b477d1489597b3a31cd2cc4546": {
          "model_module": "@jupyter-widgets/base",
          "model_name": "LayoutModel",
          "state": {
            "_view_name": "LayoutView",
            "grid_template_rows": null,
            "right": null,
            "justify_content": null,
            "_view_module": "@jupyter-widgets/base",
            "overflow": null,
            "_model_module_version": "1.2.0",
            "_view_count": null,
            "flex_flow": null,
            "width": null,
            "min_width": null,
            "border": null,
            "align_items": null,
            "bottom": null,
            "_model_module": "@jupyter-widgets/base",
            "top": null,
            "grid_column": null,
            "overflow_y": null,
            "overflow_x": null,
            "grid_auto_flow": null,
            "grid_area": null,
            "grid_template_columns": null,
            "flex": null,
            "_model_name": "LayoutModel",
            "justify_items": null,
            "grid_row": null,
            "max_height": null,
            "align_content": null,
            "visibility": null,
            "align_self": null,
            "height": null,
            "min_height": null,
            "padding": null,
            "grid_auto_rows": null,
            "grid_gap": null,
            "max_width": null,
            "order": null,
            "_view_module_version": "1.2.0",
            "grid_template_areas": null,
            "object_position": null,
            "object_fit": null,
            "grid_auto_columns": null,
            "margin": null,
            "display": null,
            "left": null
          }
        },
        "84cb21f4748d46128cc3d7ba28a0128a": {
          "model_module": "@jupyter-widgets/controls",
          "model_name": "DescriptionStyleModel",
          "state": {
            "_view_name": "StyleView",
            "_model_name": "DescriptionStyleModel",
            "description_width": "",
            "_view_module": "@jupyter-widgets/base",
            "_model_module_version": "1.5.0",
            "_view_count": null,
            "_view_module_version": "1.2.0",
            "_model_module": "@jupyter-widgets/controls"
          }
        },
        "b3c3c260212c458db1b69f4374b9293d": {
          "model_module": "@jupyter-widgets/base",
          "model_name": "LayoutModel",
          "state": {
            "_view_name": "LayoutView",
            "grid_template_rows": null,
            "right": null,
            "justify_content": null,
            "_view_module": "@jupyter-widgets/base",
            "overflow": null,
            "_model_module_version": "1.2.0",
            "_view_count": null,
            "flex_flow": null,
            "width": null,
            "min_width": null,
            "border": null,
            "align_items": null,
            "bottom": null,
            "_model_module": "@jupyter-widgets/base",
            "top": null,
            "grid_column": null,
            "overflow_y": null,
            "overflow_x": null,
            "grid_auto_flow": null,
            "grid_area": null,
            "grid_template_columns": null,
            "flex": null,
            "_model_name": "LayoutModel",
            "justify_items": null,
            "grid_row": null,
            "max_height": null,
            "align_content": null,
            "visibility": null,
            "align_self": null,
            "height": null,
            "min_height": null,
            "padding": null,
            "grid_auto_rows": null,
            "grid_gap": null,
            "max_width": null,
            "order": null,
            "_view_module_version": "1.2.0",
            "grid_template_areas": null,
            "object_position": null,
            "object_fit": null,
            "grid_auto_columns": null,
            "margin": null,
            "display": null,
            "left": null
          }
        },
        "ded61346f4a345bf868c4845c2caf1b8": {
          "model_module": "@jupyter-widgets/controls",
          "model_name": "HBoxModel",
          "state": {
            "_view_name": "HBoxView",
            "_dom_classes": [],
            "_model_name": "HBoxModel",
            "_view_module": "@jupyter-widgets/controls",
            "_model_module_version": "1.5.0",
            "_view_count": null,
            "_view_module_version": "1.5.0",
            "box_style": "",
            "layout": "IPY_MODEL_d6a2215348474dc7bd5dfce5fa953523",
            "_model_module": "@jupyter-widgets/controls",
            "children": [
              "IPY_MODEL_c7e44ae745c74c5fbf7639f09173cfb5",
              "IPY_MODEL_e6a4e4397ec145b386d8b3475d047b66"
            ]
          }
        },
        "d6a2215348474dc7bd5dfce5fa953523": {
          "model_module": "@jupyter-widgets/base",
          "model_name": "LayoutModel",
          "state": {
            "_view_name": "LayoutView",
            "grid_template_rows": null,
            "right": null,
            "justify_content": null,
            "_view_module": "@jupyter-widgets/base",
            "overflow": null,
            "_model_module_version": "1.2.0",
            "_view_count": null,
            "flex_flow": null,
            "width": null,
            "min_width": null,
            "border": null,
            "align_items": null,
            "bottom": null,
            "_model_module": "@jupyter-widgets/base",
            "top": null,
            "grid_column": null,
            "overflow_y": null,
            "overflow_x": null,
            "grid_auto_flow": null,
            "grid_area": null,
            "grid_template_columns": null,
            "flex": null,
            "_model_name": "LayoutModel",
            "justify_items": null,
            "grid_row": null,
            "max_height": null,
            "align_content": null,
            "visibility": null,
            "align_self": null,
            "height": null,
            "min_height": null,
            "padding": null,
            "grid_auto_rows": null,
            "grid_gap": null,
            "max_width": null,
            "order": null,
            "_view_module_version": "1.2.0",
            "grid_template_areas": null,
            "object_position": null,
            "object_fit": null,
            "grid_auto_columns": null,
            "margin": null,
            "display": null,
            "left": null
          }
        },
        "c7e44ae745c74c5fbf7639f09173cfb5": {
          "model_module": "@jupyter-widgets/controls",
          "model_name": "FloatProgressModel",
          "state": {
            "_view_name": "ProgressView",
            "style": "IPY_MODEL_fd1c7f6b7efc46458609ecc74701d426",
            "_dom_classes": [],
            "description": "100%",
            "_model_name": "FloatProgressModel",
            "bar_style": "success",
            "max": 206,
            "_view_module": "@jupyter-widgets/controls",
            "_model_module_version": "1.5.0",
            "value": 206,
            "_view_count": null,
            "_view_module_version": "1.5.0",
            "orientation": "horizontal",
            "min": 0,
            "description_tooltip": null,
            "_model_module": "@jupyter-widgets/controls",
            "layout": "IPY_MODEL_1798e045199a484b97da96c3a253571a"
          }
        },
        "e6a4e4397ec145b386d8b3475d047b66": {
          "model_module": "@jupyter-widgets/controls",
          "model_name": "HTMLModel",
          "state": {
            "_view_name": "HTMLView",
            "style": "IPY_MODEL_3f47a927657841709998ea217124d2bb",
            "_dom_classes": [],
            "description": "",
            "_model_name": "HTMLModel",
            "placeholder": "​",
            "_view_module": "@jupyter-widgets/controls",
            "_model_module_version": "1.5.0",
            "value": " 206/206 [05:11&lt;00:00,  1.51s/it, data_loading=0.006, iteration=0.044, test_acc=77.00, test_loss_class=0.783]",
            "_view_count": null,
            "_view_module_version": "1.5.0",
            "description_tooltip": null,
            "_model_module": "@jupyter-widgets/controls",
            "layout": "IPY_MODEL_74941e6fb73d427588a01f2206443dde"
          }
        },
        "fd1c7f6b7efc46458609ecc74701d426": {
          "model_module": "@jupyter-widgets/controls",
          "model_name": "ProgressStyleModel",
          "state": {
            "_view_name": "StyleView",
            "_model_name": "ProgressStyleModel",
            "description_width": "initial",
            "_view_module": "@jupyter-widgets/base",
            "_model_module_version": "1.5.0",
            "_view_count": null,
            "_view_module_version": "1.2.0",
            "bar_color": null,
            "_model_module": "@jupyter-widgets/controls"
          }
        },
        "1798e045199a484b97da96c3a253571a": {
          "model_module": "@jupyter-widgets/base",
          "model_name": "LayoutModel",
          "state": {
            "_view_name": "LayoutView",
            "grid_template_rows": null,
            "right": null,
            "justify_content": null,
            "_view_module": "@jupyter-widgets/base",
            "overflow": null,
            "_model_module_version": "1.2.0",
            "_view_count": null,
            "flex_flow": null,
            "width": null,
            "min_width": null,
            "border": null,
            "align_items": null,
            "bottom": null,
            "_model_module": "@jupyter-widgets/base",
            "top": null,
            "grid_column": null,
            "overflow_y": null,
            "overflow_x": null,
            "grid_auto_flow": null,
            "grid_area": null,
            "grid_template_columns": null,
            "flex": null,
            "_model_name": "LayoutModel",
            "justify_items": null,
            "grid_row": null,
            "max_height": null,
            "align_content": null,
            "visibility": null,
            "align_self": null,
            "height": null,
            "min_height": null,
            "padding": null,
            "grid_auto_rows": null,
            "grid_gap": null,
            "max_width": null,
            "order": null,
            "_view_module_version": "1.2.0",
            "grid_template_areas": null,
            "object_position": null,
            "object_fit": null,
            "grid_auto_columns": null,
            "margin": null,
            "display": null,
            "left": null
          }
        },
        "3f47a927657841709998ea217124d2bb": {
          "model_module": "@jupyter-widgets/controls",
          "model_name": "DescriptionStyleModel",
          "state": {
            "_view_name": "StyleView",
            "_model_name": "DescriptionStyleModel",
            "description_width": "",
            "_view_module": "@jupyter-widgets/base",
            "_model_module_version": "1.5.0",
            "_view_count": null,
            "_view_module_version": "1.2.0",
            "_model_module": "@jupyter-widgets/controls"
          }
        },
        "74941e6fb73d427588a01f2206443dde": {
          "model_module": "@jupyter-widgets/base",
          "model_name": "LayoutModel",
          "state": {
            "_view_name": "LayoutView",
            "grid_template_rows": null,
            "right": null,
            "justify_content": null,
            "_view_module": "@jupyter-widgets/base",
            "overflow": null,
            "_model_module_version": "1.2.0",
            "_view_count": null,
            "flex_flow": null,
            "width": null,
            "min_width": null,
            "border": null,
            "align_items": null,
            "bottom": null,
            "_model_module": "@jupyter-widgets/base",
            "top": null,
            "grid_column": null,
            "overflow_y": null,
            "overflow_x": null,
            "grid_auto_flow": null,
            "grid_area": null,
            "grid_template_columns": null,
            "flex": null,
            "_model_name": "LayoutModel",
            "justify_items": null,
            "grid_row": null,
            "max_height": null,
            "align_content": null,
            "visibility": null,
            "align_self": null,
            "height": null,
            "min_height": null,
            "padding": null,
            "grid_auto_rows": null,
            "grid_gap": null,
            "max_width": null,
            "order": null,
            "_view_module_version": "1.2.0",
            "grid_template_areas": null,
            "object_position": null,
            "object_fit": null,
            "grid_auto_columns": null,
            "margin": null,
            "display": null,
            "left": null
          }
        },
        "e2c2e9e41232477ba3e05df3592efba2": {
          "model_module": "@jupyter-widgets/controls",
          "model_name": "HBoxModel",
          "state": {
            "_view_name": "HBoxView",
            "_dom_classes": [],
            "_model_name": "HBoxModel",
            "_view_module": "@jupyter-widgets/controls",
            "_model_module_version": "1.5.0",
            "_view_count": null,
            "_view_module_version": "1.5.0",
            "box_style": "",
            "layout": "IPY_MODEL_6b2e3f6b4d62473ca9626a0afbd44993",
            "_model_module": "@jupyter-widgets/controls",
            "children": [
              "IPY_MODEL_02fb4650415b42fd82cba3a5d716ac98",
              "IPY_MODEL_d781e717126944979d88c80bfd0836c0"
            ]
          }
        },
        "6b2e3f6b4d62473ca9626a0afbd44993": {
          "model_module": "@jupyter-widgets/base",
          "model_name": "LayoutModel",
          "state": {
            "_view_name": "LayoutView",
            "grid_template_rows": null,
            "right": null,
            "justify_content": null,
            "_view_module": "@jupyter-widgets/base",
            "overflow": null,
            "_model_module_version": "1.2.0",
            "_view_count": null,
            "flex_flow": null,
            "width": null,
            "min_width": null,
            "border": null,
            "align_items": null,
            "bottom": null,
            "_model_module": "@jupyter-widgets/base",
            "top": null,
            "grid_column": null,
            "overflow_y": null,
            "overflow_x": null,
            "grid_auto_flow": null,
            "grid_area": null,
            "grid_template_columns": null,
            "flex": null,
            "_model_name": "LayoutModel",
            "justify_items": null,
            "grid_row": null,
            "max_height": null,
            "align_content": null,
            "visibility": null,
            "align_self": null,
            "height": null,
            "min_height": null,
            "padding": null,
            "grid_auto_rows": null,
            "grid_gap": null,
            "max_width": null,
            "order": null,
            "_view_module_version": "1.2.0",
            "grid_template_areas": null,
            "object_position": null,
            "object_fit": null,
            "grid_auto_columns": null,
            "margin": null,
            "display": null,
            "left": null
          }
        },
        "02fb4650415b42fd82cba3a5d716ac98": {
          "model_module": "@jupyter-widgets/controls",
          "model_name": "FloatProgressModel",
          "state": {
            "_view_name": "ProgressView",
            "style": "IPY_MODEL_45f3610583a94dc3bd3765c42b81df98",
            "_dom_classes": [],
            "description": "100%",
            "_model_name": "FloatProgressModel",
            "bar_style": "success",
            "max": 821,
            "_view_module": "@jupyter-widgets/controls",
            "_model_module_version": "1.5.0",
            "value": 821,
            "_view_count": null,
            "_view_module_version": "1.5.0",
            "orientation": "horizontal",
            "min": 0,
            "description_tooltip": null,
            "_model_module": "@jupyter-widgets/controls",
            "layout": "IPY_MODEL_2eb3bd2a4cf24029820a68cce7632827"
          }
        },
        "d781e717126944979d88c80bfd0836c0": {
          "model_module": "@jupyter-widgets/controls",
          "model_name": "HTMLModel",
          "state": {
            "_view_name": "HTMLView",
            "style": "IPY_MODEL_7d37e913cd9b4c8f9634e387e0fdb49c",
            "_dom_classes": [],
            "description": "",
            "_model_name": "HTMLModel",
            "placeholder": "​",
            "_view_module": "@jupyter-widgets/controls",
            "_model_module_version": "1.5.0",
            "value": " 821/821 [02:21&lt;00:00,  5.80it/s, data_loading=0.005, iteration=0.079, train_acc=71.28, train_loss_class=0.977]",
            "_view_count": null,
            "_view_module_version": "1.5.0",
            "description_tooltip": null,
            "_model_module": "@jupyter-widgets/controls",
            "layout": "IPY_MODEL_8eaf1be839ed4625a4ac4c7cf5a05b03"
          }
        },
        "45f3610583a94dc3bd3765c42b81df98": {
          "model_module": "@jupyter-widgets/controls",
          "model_name": "ProgressStyleModel",
          "state": {
            "_view_name": "StyleView",
            "_model_name": "ProgressStyleModel",
            "description_width": "initial",
            "_view_module": "@jupyter-widgets/base",
            "_model_module_version": "1.5.0",
            "_view_count": null,
            "_view_module_version": "1.2.0",
            "bar_color": null,
            "_model_module": "@jupyter-widgets/controls"
          }
        },
        "2eb3bd2a4cf24029820a68cce7632827": {
          "model_module": "@jupyter-widgets/base",
          "model_name": "LayoutModel",
          "state": {
            "_view_name": "LayoutView",
            "grid_template_rows": null,
            "right": null,
            "justify_content": null,
            "_view_module": "@jupyter-widgets/base",
            "overflow": null,
            "_model_module_version": "1.2.0",
            "_view_count": null,
            "flex_flow": null,
            "width": null,
            "min_width": null,
            "border": null,
            "align_items": null,
            "bottom": null,
            "_model_module": "@jupyter-widgets/base",
            "top": null,
            "grid_column": null,
            "overflow_y": null,
            "overflow_x": null,
            "grid_auto_flow": null,
            "grid_area": null,
            "grid_template_columns": null,
            "flex": null,
            "_model_name": "LayoutModel",
            "justify_items": null,
            "grid_row": null,
            "max_height": null,
            "align_content": null,
            "visibility": null,
            "align_self": null,
            "height": null,
            "min_height": null,
            "padding": null,
            "grid_auto_rows": null,
            "grid_gap": null,
            "max_width": null,
            "order": null,
            "_view_module_version": "1.2.0",
            "grid_template_areas": null,
            "object_position": null,
            "object_fit": null,
            "grid_auto_columns": null,
            "margin": null,
            "display": null,
            "left": null
          }
        },
        "7d37e913cd9b4c8f9634e387e0fdb49c": {
          "model_module": "@jupyter-widgets/controls",
          "model_name": "DescriptionStyleModel",
          "state": {
            "_view_name": "StyleView",
            "_model_name": "DescriptionStyleModel",
            "description_width": "",
            "_view_module": "@jupyter-widgets/base",
            "_model_module_version": "1.5.0",
            "_view_count": null,
            "_view_module_version": "1.2.0",
            "_model_module": "@jupyter-widgets/controls"
          }
        },
        "8eaf1be839ed4625a4ac4c7cf5a05b03": {
          "model_module": "@jupyter-widgets/base",
          "model_name": "LayoutModel",
          "state": {
            "_view_name": "LayoutView",
            "grid_template_rows": null,
            "right": null,
            "justify_content": null,
            "_view_module": "@jupyter-widgets/base",
            "overflow": null,
            "_model_module_version": "1.2.0",
            "_view_count": null,
            "flex_flow": null,
            "width": null,
            "min_width": null,
            "border": null,
            "align_items": null,
            "bottom": null,
            "_model_module": "@jupyter-widgets/base",
            "top": null,
            "grid_column": null,
            "overflow_y": null,
            "overflow_x": null,
            "grid_auto_flow": null,
            "grid_area": null,
            "grid_template_columns": null,
            "flex": null,
            "_model_name": "LayoutModel",
            "justify_items": null,
            "grid_row": null,
            "max_height": null,
            "align_content": null,
            "visibility": null,
            "align_self": null,
            "height": null,
            "min_height": null,
            "padding": null,
            "grid_auto_rows": null,
            "grid_gap": null,
            "max_width": null,
            "order": null,
            "_view_module_version": "1.2.0",
            "grid_template_areas": null,
            "object_position": null,
            "object_fit": null,
            "grid_auto_columns": null,
            "margin": null,
            "display": null,
            "left": null
          }
        },
        "5ff4e07f033d48cc8aa731897356e1e1": {
          "model_module": "@jupyter-widgets/controls",
          "model_name": "HBoxModel",
          "state": {
            "_view_name": "HBoxView",
            "_dom_classes": [],
            "_model_name": "HBoxModel",
            "_view_module": "@jupyter-widgets/controls",
            "_model_module_version": "1.5.0",
            "_view_count": null,
            "_view_module_version": "1.5.0",
            "box_style": "",
            "layout": "IPY_MODEL_789f392fc46d4820a11588256a81c38c",
            "_model_module": "@jupyter-widgets/controls",
            "children": [
              "IPY_MODEL_f938ab1a07974328807cfb85d8f6618d",
              "IPY_MODEL_ed959a244ba34cf9a7202e8baa634282"
            ]
          }
        },
        "789f392fc46d4820a11588256a81c38c": {
          "model_module": "@jupyter-widgets/base",
          "model_name": "LayoutModel",
          "state": {
            "_view_name": "LayoutView",
            "grid_template_rows": null,
            "right": null,
            "justify_content": null,
            "_view_module": "@jupyter-widgets/base",
            "overflow": null,
            "_model_module_version": "1.2.0",
            "_view_count": null,
            "flex_flow": null,
            "width": null,
            "min_width": null,
            "border": null,
            "align_items": null,
            "bottom": null,
            "_model_module": "@jupyter-widgets/base",
            "top": null,
            "grid_column": null,
            "overflow_y": null,
            "overflow_x": null,
            "grid_auto_flow": null,
            "grid_area": null,
            "grid_template_columns": null,
            "flex": null,
            "_model_name": "LayoutModel",
            "justify_items": null,
            "grid_row": null,
            "max_height": null,
            "align_content": null,
            "visibility": null,
            "align_self": null,
            "height": null,
            "min_height": null,
            "padding": null,
            "grid_auto_rows": null,
            "grid_gap": null,
            "max_width": null,
            "order": null,
            "_view_module_version": "1.2.0",
            "grid_template_areas": null,
            "object_position": null,
            "object_fit": null,
            "grid_auto_columns": null,
            "margin": null,
            "display": null,
            "left": null
          }
        },
        "f938ab1a07974328807cfb85d8f6618d": {
          "model_module": "@jupyter-widgets/controls",
          "model_name": "FloatProgressModel",
          "state": {
            "_view_name": "ProgressView",
            "style": "IPY_MODEL_1b5c43f935e5413c8c8c75753d7f3fa6",
            "_dom_classes": [],
            "description": "100%",
            "_model_name": "FloatProgressModel",
            "bar_style": "success",
            "max": 206,
            "_view_module": "@jupyter-widgets/controls",
            "_model_module_version": "1.5.0",
            "value": 206,
            "_view_count": null,
            "_view_module_version": "1.5.0",
            "orientation": "horizontal",
            "min": 0,
            "description_tooltip": null,
            "_model_module": "@jupyter-widgets/controls",
            "layout": "IPY_MODEL_3de8e486f56c4699bf7c2c2cd9aaa3f8"
          }
        },
        "ed959a244ba34cf9a7202e8baa634282": {
          "model_module": "@jupyter-widgets/controls",
          "model_name": "HTMLModel",
          "state": {
            "_view_name": "HTMLView",
            "style": "IPY_MODEL_2dd7069d2b6b4b0aabb8efae69c10faa",
            "_dom_classes": [],
            "description": "",
            "_model_name": "HTMLModel",
            "placeholder": "​",
            "_view_module": "@jupyter-widgets/controls",
            "_model_module_version": "1.5.0",
            "value": " 206/206 [02:35&lt;00:00,  1.32it/s, data_loading=0.007, iteration=0.044, test_acc=80.44, test_loss_class=0.681]",
            "_view_count": null,
            "_view_module_version": "1.5.0",
            "description_tooltip": null,
            "_model_module": "@jupyter-widgets/controls",
            "layout": "IPY_MODEL_335ef78c7aa44d0bb8dd078e1fa9070d"
          }
        },
        "1b5c43f935e5413c8c8c75753d7f3fa6": {
          "model_module": "@jupyter-widgets/controls",
          "model_name": "ProgressStyleModel",
          "state": {
            "_view_name": "StyleView",
            "_model_name": "ProgressStyleModel",
            "description_width": "initial",
            "_view_module": "@jupyter-widgets/base",
            "_model_module_version": "1.5.0",
            "_view_count": null,
            "_view_module_version": "1.2.0",
            "bar_color": null,
            "_model_module": "@jupyter-widgets/controls"
          }
        },
        "3de8e486f56c4699bf7c2c2cd9aaa3f8": {
          "model_module": "@jupyter-widgets/base",
          "model_name": "LayoutModel",
          "state": {
            "_view_name": "LayoutView",
            "grid_template_rows": null,
            "right": null,
            "justify_content": null,
            "_view_module": "@jupyter-widgets/base",
            "overflow": null,
            "_model_module_version": "1.2.0",
            "_view_count": null,
            "flex_flow": null,
            "width": null,
            "min_width": null,
            "border": null,
            "align_items": null,
            "bottom": null,
            "_model_module": "@jupyter-widgets/base",
            "top": null,
            "grid_column": null,
            "overflow_y": null,
            "overflow_x": null,
            "grid_auto_flow": null,
            "grid_area": null,
            "grid_template_columns": null,
            "flex": null,
            "_model_name": "LayoutModel",
            "justify_items": null,
            "grid_row": null,
            "max_height": null,
            "align_content": null,
            "visibility": null,
            "align_self": null,
            "height": null,
            "min_height": null,
            "padding": null,
            "grid_auto_rows": null,
            "grid_gap": null,
            "max_width": null,
            "order": null,
            "_view_module_version": "1.2.0",
            "grid_template_areas": null,
            "object_position": null,
            "object_fit": null,
            "grid_auto_columns": null,
            "margin": null,
            "display": null,
            "left": null
          }
        },
        "2dd7069d2b6b4b0aabb8efae69c10faa": {
          "model_module": "@jupyter-widgets/controls",
          "model_name": "DescriptionStyleModel",
          "state": {
            "_view_name": "StyleView",
            "_model_name": "DescriptionStyleModel",
            "description_width": "",
            "_view_module": "@jupyter-widgets/base",
            "_model_module_version": "1.5.0",
            "_view_count": null,
            "_view_module_version": "1.2.0",
            "_model_module": "@jupyter-widgets/controls"
          }
        },
        "335ef78c7aa44d0bb8dd078e1fa9070d": {
          "model_module": "@jupyter-widgets/base",
          "model_name": "LayoutModel",
          "state": {
            "_view_name": "LayoutView",
            "grid_template_rows": null,
            "right": null,
            "justify_content": null,
            "_view_module": "@jupyter-widgets/base",
            "overflow": null,
            "_model_module_version": "1.2.0",
            "_view_count": null,
            "flex_flow": null,
            "width": null,
            "min_width": null,
            "border": null,
            "align_items": null,
            "bottom": null,
            "_model_module": "@jupyter-widgets/base",
            "top": null,
            "grid_column": null,
            "overflow_y": null,
            "overflow_x": null,
            "grid_auto_flow": null,
            "grid_area": null,
            "grid_template_columns": null,
            "flex": null,
            "_model_name": "LayoutModel",
            "justify_items": null,
            "grid_row": null,
            "max_height": null,
            "align_content": null,
            "visibility": null,
            "align_self": null,
            "height": null,
            "min_height": null,
            "padding": null,
            "grid_auto_rows": null,
            "grid_gap": null,
            "max_width": null,
            "order": null,
            "_view_module_version": "1.2.0",
            "grid_template_areas": null,
            "object_position": null,
            "object_fit": null,
            "grid_auto_columns": null,
            "margin": null,
            "display": null,
            "left": null
          }
        },
        "eb4fa24686694fd389fce44b10a05c62": {
          "model_module": "@jupyter-widgets/controls",
          "model_name": "HBoxModel",
          "state": {
            "_view_name": "HBoxView",
            "_dom_classes": [],
            "_model_name": "HBoxModel",
            "_view_module": "@jupyter-widgets/controls",
            "_model_module_version": "1.5.0",
            "_view_count": null,
            "_view_module_version": "1.5.0",
            "box_style": "",
            "layout": "IPY_MODEL_526c8e425f004736bb8bb8b5a8296995",
            "_model_module": "@jupyter-widgets/controls",
            "children": [
              "IPY_MODEL_3cb5536a1ad944089e2bd7cd53f95051",
              "IPY_MODEL_b14581fcc84d404cb765df552988b896"
            ]
          }
        },
        "526c8e425f004736bb8bb8b5a8296995": {
          "model_module": "@jupyter-widgets/base",
          "model_name": "LayoutModel",
          "state": {
            "_view_name": "LayoutView",
            "grid_template_rows": null,
            "right": null,
            "justify_content": null,
            "_view_module": "@jupyter-widgets/base",
            "overflow": null,
            "_model_module_version": "1.2.0",
            "_view_count": null,
            "flex_flow": null,
            "width": null,
            "min_width": null,
            "border": null,
            "align_items": null,
            "bottom": null,
            "_model_module": "@jupyter-widgets/base",
            "top": null,
            "grid_column": null,
            "overflow_y": null,
            "overflow_x": null,
            "grid_auto_flow": null,
            "grid_area": null,
            "grid_template_columns": null,
            "flex": null,
            "_model_name": "LayoutModel",
            "justify_items": null,
            "grid_row": null,
            "max_height": null,
            "align_content": null,
            "visibility": null,
            "align_self": null,
            "height": null,
            "min_height": null,
            "padding": null,
            "grid_auto_rows": null,
            "grid_gap": null,
            "max_width": null,
            "order": null,
            "_view_module_version": "1.2.0",
            "grid_template_areas": null,
            "object_position": null,
            "object_fit": null,
            "grid_auto_columns": null,
            "margin": null,
            "display": null,
            "left": null
          }
        },
        "3cb5536a1ad944089e2bd7cd53f95051": {
          "model_module": "@jupyter-widgets/controls",
          "model_name": "FloatProgressModel",
          "state": {
            "_view_name": "ProgressView",
            "style": "IPY_MODEL_ef606f5dcf91446d960eae089a46bbc2",
            "_dom_classes": [],
            "description": "100%",
            "_model_name": "FloatProgressModel",
            "bar_style": "success",
            "max": 821,
            "_view_module": "@jupyter-widgets/controls",
            "_model_module_version": "1.5.0",
            "value": 821,
            "_view_count": null,
            "_view_module_version": "1.5.0",
            "orientation": "horizontal",
            "min": 0,
            "description_tooltip": null,
            "_model_module": "@jupyter-widgets/controls",
            "layout": "IPY_MODEL_2bd6d4a1b0934311964dafa439c7a99d"
          }
        },
        "b14581fcc84d404cb765df552988b896": {
          "model_module": "@jupyter-widgets/controls",
          "model_name": "HTMLModel",
          "state": {
            "_view_name": "HTMLView",
            "style": "IPY_MODEL_8c9dc0edb2e24876be211bedcf4980b6",
            "_dom_classes": [],
            "description": "",
            "_model_name": "HTMLModel",
            "placeholder": "​",
            "_view_module": "@jupyter-widgets/controls",
            "_model_module_version": "1.5.0",
            "value": " 821/821 [02:21&lt;00:00,  5.81it/s, data_loading=0.004, iteration=0.082, train_acc=75.50, train_loss_class=0.861]",
            "_view_count": null,
            "_view_module_version": "1.5.0",
            "description_tooltip": null,
            "_model_module": "@jupyter-widgets/controls",
            "layout": "IPY_MODEL_2d8cd5f359a14c1a9d989ab0001d4109"
          }
        },
        "ef606f5dcf91446d960eae089a46bbc2": {
          "model_module": "@jupyter-widgets/controls",
          "model_name": "ProgressStyleModel",
          "state": {
            "_view_name": "StyleView",
            "_model_name": "ProgressStyleModel",
            "description_width": "initial",
            "_view_module": "@jupyter-widgets/base",
            "_model_module_version": "1.5.0",
            "_view_count": null,
            "_view_module_version": "1.2.0",
            "bar_color": null,
            "_model_module": "@jupyter-widgets/controls"
          }
        },
        "2bd6d4a1b0934311964dafa439c7a99d": {
          "model_module": "@jupyter-widgets/base",
          "model_name": "LayoutModel",
          "state": {
            "_view_name": "LayoutView",
            "grid_template_rows": null,
            "right": null,
            "justify_content": null,
            "_view_module": "@jupyter-widgets/base",
            "overflow": null,
            "_model_module_version": "1.2.0",
            "_view_count": null,
            "flex_flow": null,
            "width": null,
            "min_width": null,
            "border": null,
            "align_items": null,
            "bottom": null,
            "_model_module": "@jupyter-widgets/base",
            "top": null,
            "grid_column": null,
            "overflow_y": null,
            "overflow_x": null,
            "grid_auto_flow": null,
            "grid_area": null,
            "grid_template_columns": null,
            "flex": null,
            "_model_name": "LayoutModel",
            "justify_items": null,
            "grid_row": null,
            "max_height": null,
            "align_content": null,
            "visibility": null,
            "align_self": null,
            "height": null,
            "min_height": null,
            "padding": null,
            "grid_auto_rows": null,
            "grid_gap": null,
            "max_width": null,
            "order": null,
            "_view_module_version": "1.2.0",
            "grid_template_areas": null,
            "object_position": null,
            "object_fit": null,
            "grid_auto_columns": null,
            "margin": null,
            "display": null,
            "left": null
          }
        },
        "8c9dc0edb2e24876be211bedcf4980b6": {
          "model_module": "@jupyter-widgets/controls",
          "model_name": "DescriptionStyleModel",
          "state": {
            "_view_name": "StyleView",
            "_model_name": "DescriptionStyleModel",
            "description_width": "",
            "_view_module": "@jupyter-widgets/base",
            "_model_module_version": "1.5.0",
            "_view_count": null,
            "_view_module_version": "1.2.0",
            "_model_module": "@jupyter-widgets/controls"
          }
        },
        "2d8cd5f359a14c1a9d989ab0001d4109": {
          "model_module": "@jupyter-widgets/base",
          "model_name": "LayoutModel",
          "state": {
            "_view_name": "LayoutView",
            "grid_template_rows": null,
            "right": null,
            "justify_content": null,
            "_view_module": "@jupyter-widgets/base",
            "overflow": null,
            "_model_module_version": "1.2.0",
            "_view_count": null,
            "flex_flow": null,
            "width": null,
            "min_width": null,
            "border": null,
            "align_items": null,
            "bottom": null,
            "_model_module": "@jupyter-widgets/base",
            "top": null,
            "grid_column": null,
            "overflow_y": null,
            "overflow_x": null,
            "grid_auto_flow": null,
            "grid_area": null,
            "grid_template_columns": null,
            "flex": null,
            "_model_name": "LayoutModel",
            "justify_items": null,
            "grid_row": null,
            "max_height": null,
            "align_content": null,
            "visibility": null,
            "align_self": null,
            "height": null,
            "min_height": null,
            "padding": null,
            "grid_auto_rows": null,
            "grid_gap": null,
            "max_width": null,
            "order": null,
            "_view_module_version": "1.2.0",
            "grid_template_areas": null,
            "object_position": null,
            "object_fit": null,
            "grid_auto_columns": null,
            "margin": null,
            "display": null,
            "left": null
          }
        },
        "c28dbbbad2914215bf51fdbf95a4921a": {
          "model_module": "@jupyter-widgets/controls",
          "model_name": "HBoxModel",
          "state": {
            "_view_name": "HBoxView",
            "_dom_classes": [],
            "_model_name": "HBoxModel",
            "_view_module": "@jupyter-widgets/controls",
            "_model_module_version": "1.5.0",
            "_view_count": null,
            "_view_module_version": "1.5.0",
            "box_style": "",
            "layout": "IPY_MODEL_6db8e9284672427a9344b66fcd73bfb9",
            "_model_module": "@jupyter-widgets/controls",
            "children": [
              "IPY_MODEL_06addc65ecf844b480bfb7fb450b3754",
              "IPY_MODEL_76b078d22284471693b74e064dd38d84"
            ]
          }
        },
        "6db8e9284672427a9344b66fcd73bfb9": {
          "model_module": "@jupyter-widgets/base",
          "model_name": "LayoutModel",
          "state": {
            "_view_name": "LayoutView",
            "grid_template_rows": null,
            "right": null,
            "justify_content": null,
            "_view_module": "@jupyter-widgets/base",
            "overflow": null,
            "_model_module_version": "1.2.0",
            "_view_count": null,
            "flex_flow": null,
            "width": null,
            "min_width": null,
            "border": null,
            "align_items": null,
            "bottom": null,
            "_model_module": "@jupyter-widgets/base",
            "top": null,
            "grid_column": null,
            "overflow_y": null,
            "overflow_x": null,
            "grid_auto_flow": null,
            "grid_area": null,
            "grid_template_columns": null,
            "flex": null,
            "_model_name": "LayoutModel",
            "justify_items": null,
            "grid_row": null,
            "max_height": null,
            "align_content": null,
            "visibility": null,
            "align_self": null,
            "height": null,
            "min_height": null,
            "padding": null,
            "grid_auto_rows": null,
            "grid_gap": null,
            "max_width": null,
            "order": null,
            "_view_module_version": "1.2.0",
            "grid_template_areas": null,
            "object_position": null,
            "object_fit": null,
            "grid_auto_columns": null,
            "margin": null,
            "display": null,
            "left": null
          }
        },
        "06addc65ecf844b480bfb7fb450b3754": {
          "model_module": "@jupyter-widgets/controls",
          "model_name": "FloatProgressModel",
          "state": {
            "_view_name": "ProgressView",
            "style": "IPY_MODEL_2f89d85e5b1046848e39719cd207dc29",
            "_dom_classes": [],
            "description": " 72%",
            "_model_name": "FloatProgressModel",
            "bar_style": "",
            "max": 206,
            "_view_module": "@jupyter-widgets/controls",
            "_model_module_version": "1.5.0",
            "value": 149,
            "_view_count": null,
            "_view_module_version": "1.5.0",
            "orientation": "horizontal",
            "min": 0,
            "description_tooltip": null,
            "_model_module": "@jupyter-widgets/controls",
            "layout": "IPY_MODEL_f347e6f996ee451abc1caac0b89aa43a"
          }
        },
        "76b078d22284471693b74e064dd38d84": {
          "model_module": "@jupyter-widgets/controls",
          "model_name": "HTMLModel",
          "state": {
            "_view_name": "HTMLView",
            "style": "IPY_MODEL_f726649a59614bc3b89ec8e8f0ba9694",
            "_dom_classes": [],
            "description": "",
            "_model_name": "HTMLModel",
            "placeholder": "​",
            "_view_module": "@jupyter-widgets/controls",
            "_model_module_version": "1.5.0",
            "value": " 149/206 [00:10&lt;00:03, 15.42it/s, data_loading=0.005, iteration=0.059, test_acc=81.61, test_loss_class=0.653]",
            "_view_count": null,
            "_view_module_version": "1.5.0",
            "description_tooltip": null,
            "_model_module": "@jupyter-widgets/controls",
            "layout": "IPY_MODEL_7562dad49922423789fcdc59d490870b"
          }
        },
        "2f89d85e5b1046848e39719cd207dc29": {
          "model_module": "@jupyter-widgets/controls",
          "model_name": "ProgressStyleModel",
          "state": {
            "_view_name": "StyleView",
            "_model_name": "ProgressStyleModel",
            "description_width": "initial",
            "_view_module": "@jupyter-widgets/base",
            "_model_module_version": "1.5.0",
            "_view_count": null,
            "_view_module_version": "1.2.0",
            "bar_color": null,
            "_model_module": "@jupyter-widgets/controls"
          }
        },
        "f347e6f996ee451abc1caac0b89aa43a": {
          "model_module": "@jupyter-widgets/base",
          "model_name": "LayoutModel",
          "state": {
            "_view_name": "LayoutView",
            "grid_template_rows": null,
            "right": null,
            "justify_content": null,
            "_view_module": "@jupyter-widgets/base",
            "overflow": null,
            "_model_module_version": "1.2.0",
            "_view_count": null,
            "flex_flow": null,
            "width": null,
            "min_width": null,
            "border": null,
            "align_items": null,
            "bottom": null,
            "_model_module": "@jupyter-widgets/base",
            "top": null,
            "grid_column": null,
            "overflow_y": null,
            "overflow_x": null,
            "grid_auto_flow": null,
            "grid_area": null,
            "grid_template_columns": null,
            "flex": null,
            "_model_name": "LayoutModel",
            "justify_items": null,
            "grid_row": null,
            "max_height": null,
            "align_content": null,
            "visibility": null,
            "align_self": null,
            "height": null,
            "min_height": null,
            "padding": null,
            "grid_auto_rows": null,
            "grid_gap": null,
            "max_width": null,
            "order": null,
            "_view_module_version": "1.2.0",
            "grid_template_areas": null,
            "object_position": null,
            "object_fit": null,
            "grid_auto_columns": null,
            "margin": null,
            "display": null,
            "left": null
          }
        },
        "f726649a59614bc3b89ec8e8f0ba9694": {
          "model_module": "@jupyter-widgets/controls",
          "model_name": "DescriptionStyleModel",
          "state": {
            "_view_name": "StyleView",
            "_model_name": "DescriptionStyleModel",
            "description_width": "",
            "_view_module": "@jupyter-widgets/base",
            "_model_module_version": "1.5.0",
            "_view_count": null,
            "_view_module_version": "1.2.0",
            "_model_module": "@jupyter-widgets/controls"
          }
        },
        "7562dad49922423789fcdc59d490870b": {
          "model_module": "@jupyter-widgets/base",
          "model_name": "LayoutModel",
          "state": {
            "_view_name": "LayoutView",
            "grid_template_rows": null,
            "right": null,
            "justify_content": null,
            "_view_module": "@jupyter-widgets/base",
            "overflow": null,
            "_model_module_version": "1.2.0",
            "_view_count": null,
            "flex_flow": null,
            "width": null,
            "min_width": null,
            "border": null,
            "align_items": null,
            "bottom": null,
            "_model_module": "@jupyter-widgets/base",
            "top": null,
            "grid_column": null,
            "overflow_y": null,
            "overflow_x": null,
            "grid_auto_flow": null,
            "grid_area": null,
            "grid_template_columns": null,
            "flex": null,
            "_model_name": "LayoutModel",
            "justify_items": null,
            "grid_row": null,
            "max_height": null,
            "align_content": null,
            "visibility": null,
            "align_self": null,
            "height": null,
            "min_height": null,
            "padding": null,
            "grid_auto_rows": null,
            "grid_gap": null,
            "max_width": null,
            "order": null,
            "_view_module_version": "1.2.0",
            "grid_template_areas": null,
            "object_position": null,
            "object_fit": null,
            "grid_auto_columns": null,
            "margin": null,
            "display": null,
            "left": null
          }
        }
      }
    }
  },
  "cells": [
    {
      "cell_type": "markdown",
      "metadata": {
        "id": "view-in-github",
        "colab_type": "text"
      },
      "source": [
        "<a href=\"https://colab.research.google.com/github/nicolas-chaulet/torch-points3d/blob/master/notebooks/ObjectClassificationRSConv.ipynb\" target=\"_parent\"><img src=\"https://colab.research.google.com/assets/colab-badge.svg\" alt=\"Open In Colab\"/></a>"
      ]
    },
    {
      "cell_type": "code",
      "metadata": {
        "colab_type": "code",
        "id": "FFL6wvW8jvjO",
        "colab": {}
      },
      "source": [
        "# Setup packages can take some time (30 minutes or so)\n",
        "!pip install pyvista\n",
        "!pip install --upgrade jsonschema\n",
        "!pip install torch-points3d\n",
        "!apt-get install -qq xvfb libgl1-mesa-glx"
      ],
      "execution_count": null,
      "outputs": []
    },
    {
      "cell_type": "code",
      "metadata": {
        "colab_type": "code",
        "id": "Yrg4vto4qewE",
        "colab": {
          "base_uri": "https://localhost:8080/",
          "height": 35
        },
        "outputId": "69a4aabe-0ffc-42c6-f575-57cded74d87c"
      },
      "source": [
        "# Needed for remote rendering \n",
        "import os\n",
        "os.environ[\"DISPLAY\"] = \":99.0\"\n",
        "os.environ[\"PYVISTA_OFF_SCREEN\"]=\"true\"\n",
        "os.environ[\"PYVISTA_PLOT_THEME\"]=\"true\"\n",
        "os.environ[\"PYVISTA_USE_PANEL\"]=\"true\"\n",
        "os.environ[\"PYVISTA_AUTO_CLOSE\"]=\"false\"\n",
        "os.system(\"Xvfb :99 -screen 0 1024x768x24 > /dev/null 2>&1 &\")"
      ],
      "execution_count": 2,
      "outputs": [
        {
          "output_type": "execute_result",
          "data": {
            "text/plain": [
              "0"
            ]
          },
          "metadata": {
            "tags": []
          },
          "execution_count": 2
        }
      ]
    },
    {
      "cell_type": "code",
      "metadata": {
        "colab_type": "code",
        "id": "8_eOTvwjjuK4",
        "colab": {}
      },
      "source": [
        "import os\n",
        "import sys\n",
        "from omegaconf import OmegaConf\n",
        "import pyvista as pv\n",
        "import torch\n",
        "import time\n",
        "import datetime"
      ],
      "execution_count": 3,
      "outputs": []
    },
    {
      "cell_type": "code",
      "metadata": {
        "colab_type": "code",
        "id": "k14-WHdzDcvu",
        "colab": {}
      },
      "source": [
        "DIR = \"\" # Replace with your root directory, the data will go in DIR/data."
      ],
      "execution_count": 4,
      "outputs": []
    },
    {
      "cell_type": "markdown",
      "metadata": {
        "colab_type": "text",
        "id": "0sS0YEUXjuLO"
      },
      "source": [
        "<p align=\"center\">\n",
        "  <img width=\"40%\" src=\"https://raw.githubusercontent.com/nicolas-chaulet/torch-points3d/master/docs/logo.png\" />\n",
        "</p>\n"
      ]
    },
    {
      "cell_type": "markdown",
      "metadata": {
        "colab_type": "text",
        "id": "F1cLXfkkjuLP"
      },
      "source": [
        "# Classifying objects with Relation-Shape CNN\n",
        "This notebook explains how Torch Points3D can be used to solve an object classification task. We will use [ModelNet](https://modelnet.cs.princeton.edu/) as our dataset and [Relation-Shape CNN](https://github.com/Yochengliu/Relation-Shape-CNN) as our model architecture. The dataset contains CAD models of objects that belong to 40 different categories and the task is to retrieve the category of the object from its point cloud representation. There is also a smaller version well suited for quick testing that contains only 10 classes. The notebook covers the following aspects of Torch Points3D:\n",
        "\n",
        "1. Create a dataset with a data augmentation pipeline\n",
        "2. Instantiate a pre configured model\n",
        "3. Setup the data loaders\n",
        "4. Run a training\n"
      ]
    },
    {
      "cell_type": "code",
      "metadata": {
        "cellView": "form",
        "colab_type": "code",
        "id": "7O3JPuIQExZJ",
        "colab": {}
      },
      "source": [
        "#@title Choose ModelNet parameters {run: \"auto\"}\n",
        "MODELNET_VERSION=\"40\" #@param [\"10\", \"40\"]\n",
        "USE_NORMAL = True #@param {type:\"boolean\"}"
      ],
      "execution_count": 5,
      "outputs": []
    },
    {
      "cell_type": "markdown",
      "metadata": {
        "colab_type": "text",
        "id": "EwOtGLfijuLR"
      },
      "source": [
        "## The dataset\n",
        "We will use Torch Points3D to download and create the dataset (be patient, it takes some time...). It automatically downloads a pre sampled version of ModelNet (with 10,000 points per object) and the data will be stored under the `ROOT/data/modelnet` directory. Creating the raw dataset is as simple as:"
      ]
    },
    {
      "cell_type": "code",
      "metadata": {
        "colab_type": "code",
        "id": "P4iIhBJAjuLT",
        "colab": {
          "base_uri": "https://localhost:8080/",
          "height": 109
        },
        "outputId": "2b45c47c-98ad-4003-951a-6f9bb5c82269"
      },
      "source": [
        "# The dataset will be downloaded the first time this cell is run\n",
        "from torch_points3d.datasets.classification.modelnet import SampledModelNet\n",
        "import torch_points3d.core.data_transform as T3D\n",
        "import torch_geometric.transforms as T\n",
        "\n",
        "dataroot = os.path.join(DIR, \"data/modelnet\")\n",
        "pre_transform = T.Compose([T.NormalizeScale(), T3D.GridSampling3D(0.02)])\n",
        "dataset = SampledModelNet(dataroot, name=MODELNET_VERSION, train=True, transform=None,\n",
        "                 pre_transform=pre_transform, pre_filter=None)\n",
        "dataset[0]"
      ],
      "execution_count": 6,
      "outputs": [
        {
          "output_type": "stream",
          "text": [
            "Downloading https://shapenet.cs.stanford.edu/media/modelnet40_normal_resampled.zip\n",
            "Extracting data/modelnet/modelnet40_normal_resampled.zip\n",
            "Processing...\n",
            "Done!\n"
          ],
          "name": "stdout"
        },
        {
          "output_type": "execute_result",
          "data": {
            "text/plain": [
              "Data(norm=[6001, 3], pos=[6001, 3], y=[1])"
            ]
          },
          "metadata": {
            "tags": []
          },
          "execution_count": 6
        }
      ]
    },
    {
      "cell_type": "markdown",
      "metadata": {
        "colab_type": "text",
        "id": "F0cY35y1juLZ"
      },
      "source": [
        "Each sample is a CAD model of an object (bathtub, toilet, bed, etc...), the `pos` attribute contains the coordinates of points sampled on each face of the mesh while `norm` contains the normal vector. You will notice that we have applied two pre transforms to our dataset:\n",
        "\n",
        "- `NormalizeScale` normalises the scale of each object\n",
        "- `GridSampling3D` does a voxel downsizing of each point cloud with a resolution of 0.02 (in normalized scale). This ensures a homogeneous density.\n",
        "\n",
        "Let's visualise some of those examples before going any further (this might fail on colab, it is a bit random).\n"
      ]
    },
    {
      "cell_type": "code",
      "metadata": {
        "cellView": "form",
        "colab_type": "code",
        "id": "OsFH72B9juLa",
        "colab": {
          "base_uri": "https://localhost:8080/",
          "height": 429
        },
        "outputId": "8397efd1-5ba2-451b-d8b3-17147205f160"
      },
      "source": [
        "#@title Plot samples { run: \"auto\" }\n",
        "objectid_1 = 109 #@param {type:\"slider\", step:1, min:1, max: 3000}\n",
        "objectid_2 = 998 #@param {type:\"slider\", step:1, min:1, max: 3000}\n",
        "objectid_3 = 2002#@param {type:\"slider\", step:1, min:1, max: 3000}\n",
        "\n",
        "samples = [objectid_1,objectid_2,objectid_3]\n",
        "p = pv.Plotter(notebook=True,shape=(1, len(samples)),window_size=[1024,412])\n",
        "for i in range(len(samples)):\n",
        "    p.subplot(0, i)\n",
        "    sample = dataset[samples[i]].pos.numpy()\n",
        "    point_cloud = pv.PolyData(sample)\n",
        "    point_cloud['y'] = sample[:,1]\n",
        "    p.add_points(point_cloud)\n",
        "    p.camera_position = [-1,5, -10]\n",
        "p.show()"
      ],
      "execution_count": 7,
      "outputs": [
        {
          "output_type": "display_data",
          "data": {
            "image/png": "[encoded data removed]",
            "text/plain": [
              "<PIL.Image.Image image mode=RGB size=1024x412 at 0x7F58984B1240>"
            ]
          },
          "metadata": {
            "tags": []
          }
        }
      ]
    },
    {
      "cell_type": "markdown",
      "metadata": {
        "colab_type": "text",
        "id": "FYE0OSUhjuLg"
      },
      "source": [
        "## Building a model\n",
        "As mentioned in the introduction we will use Relation-Shape CNN as our backbone architecture for the model classifier. Let's build our model by using Torch Points3D API (you can ignore the error, it comes from a third party library and all works just fine). We will use the normal vector as an input feature, therefore we will set the number of input channels (`input_nc`) to 3."
      ]
    },
    {
      "cell_type": "code",
      "metadata": {
        "colab_type": "code",
        "id": "dWvt8XsojuLi",
        "colab": {}
      },
      "source": [
        "from torch_points3d.applications.rsconv import RSConv\n",
        "# Ignore the error below, it comes from the tests of a third-party package that we use"
      ],
      "execution_count": 8,
      "outputs": []
    },
    {
      "cell_type": "code",
      "metadata": {
        "colab_type": "code",
        "id": "ffGE6xUNjuLo",
        "colab": {}
      },
      "source": [
        "class RSConvCLassifier(torch.nn.Module):\n",
        "    def __init__(self):\n",
        "        super().__init__() \n",
        "        self.encoder = RSConv(\"encoder\", input_nc= 3 * USE_NORMAL,output_nc = int(MODELNET_VERSION), num_layers=4)\n",
        "        self.log_softmax = torch.nn.LogSoftmax(dim=-1)\n",
        "    \n",
        "    @property\n",
        "    def conv_type(self):\n",
        "        \"\"\" This is needed by the dataset to infer which batch collate should be used\"\"\"\n",
        "        return self.encoder.conv_type\n",
        "    \n",
        "    def get_output(self):\n",
        "        \"\"\" This is needed by the tracker to get access to the ouputs of the network\"\"\"\n",
        "        return self.output\n",
        "    \n",
        "    def get_labels(self):\n",
        "        \"\"\" Needed by the tracker in order to access ground truth labels\"\"\"\n",
        "        return self.labels\n",
        "    \n",
        "    def get_current_losses(self):\n",
        "        \"\"\" Entry point for the tracker to grab the loss \"\"\"\n",
        "        return {\"loss_class\": float(self.loss_class)}\n",
        "    \n",
        "    def forward(self, data):\n",
        "        # Set labels for the tracker\n",
        "        self.labels = data.y.squeeze()\n",
        "\n",
        "        # Forward through the network\n",
        "        data_out = self.encoder(data)\n",
        "        self.output = self.log_softmax(data_out.x.squeeze())\n",
        "\n",
        "        # Set loss for the backward pass\n",
        "        self.loss_class = torch.nn.functional.nll_loss(self.output, self.labels)\n",
        "    \n",
        "    def backward(self):\n",
        "         self.loss_class.backward()    \n",
        "        "
      ],
      "execution_count": 9,
      "outputs": []
    },
    {
      "cell_type": "code",
      "metadata": {
        "colab_type": "code",
        "id": "r-C7fltXjuLt",
        "colab": {
          "base_uri": "https://localhost:8080/",
          "height": 35
        },
        "outputId": "9601778b-5d25-47a0-f483-afa0a9c09737"
      },
      "source": [
        "model = RSConvCLassifier()"
      ],
      "execution_count": 10,
      "outputs": [
        {
          "output_type": "stream",
          "text": [
            "The down_conv_nn has a different size as radii. Make sure of have SharedRSConv\n"
          ],
          "name": "stderr"
        }
      ]
    },
    {
      "cell_type": "markdown",
      "metadata": {
        "colab_type": "text",
        "id": "S30iNr4TjuLx"
      },
      "source": [
        "## Setting up the data loaders\n",
        "In this section, we will first build  a data loader using basic building blocks, and then we will see how one can use our dataset wrapper to assemble a dataset ready for training with its test and train data loader configured.\n",
        "\n",
        "Let's start with a vanillia data loader. There are two ways to assemble batches depending on the model that is used. In that case we will want dense batches where samples are concatenated along the first dimension, just like for batches of images. It is very important to ensure that each sample has got the same number of points, this can be achieved by applying a `FixedPoints` transform to the dataset. Here we will use 2048 points per object."
      ]
    },
    {
      "cell_type": "code",
      "metadata": {
        "colab_type": "code",
        "id": "UMKyO1qPjuLy",
        "colab": {
          "base_uri": "https://localhost:8080/",
          "height": 35
        },
        "outputId": "f086069c-1c7a-4602-f82a-86ce858b8427"
      },
      "source": [
        "from torch_points3d.datasets.batch import SimpleBatch\n",
        "NUM_WORKERS = 4\n",
        "BATCH_SIZE = 12\n",
        "\n",
        "transform = T.FixedPoints(2048)\n",
        "dataset = SampledModelNet(dataroot, name=MODELNET_VERSION, train=True, transform=transform,\n",
        "                 pre_transform=pre_transform, pre_filter=None)\n",
        "\n",
        "collate_function = lambda datalist: SimpleBatch.from_data_list(datalist)\n",
        "train_loader = torch.utils.data.DataLoader(\n",
        "    dataset, \n",
        "    batch_size=BATCH_SIZE, \n",
        "    shuffle=True, \n",
        "    num_workers=NUM_WORKERS,  \n",
        "    collate_fn=collate_function\n",
        ")\n",
        "next(iter(train_loader))"
      ],
      "execution_count": 11,
      "outputs": [
        {
          "output_type": "execute_result",
          "data": {
            "text/plain": [
              "SimpleBatch(norm=[12, 2048, 3], pos=[12, 2048, 3], y=[12, 1])"
            ]
          },
          "metadata": {
            "tags": []
          },
          "execution_count": 11
        }
      ]
    },
    {
      "cell_type": "markdown",
      "metadata": {
        "colab_type": "text",
        "id": "FR1oib1ajuL4"
      },
      "source": [
        "If we were using a model that can handle packed data we would not need the `FixedPoints` transform at all and each object could have a different number of points."
      ]
    },
    {
      "cell_type": "code",
      "metadata": {
        "colab_type": "code",
        "id": "t-L5aUdhjuL4",
        "colab": {
          "base_uri": "https://localhost:8080/",
          "height": 35
        },
        "outputId": "5af6c08e-58cd-45b0-8e41-7ba57758455f"
      },
      "source": [
        "from torch_geometric.data import Batch\n",
        "\n",
        "dataset = SampledModelNet(dataroot, name=MODELNET_VERSION, train=True, transform=None,\n",
        "                 pre_transform=pre_transform, pre_filter=None)\n",
        "\n",
        "collate_function = lambda datalist: Batch.from_data_list(datalist)\n",
        "train_loader = torch.utils.data.DataLoader(\n",
        "    dataset, \n",
        "    batch_size=BATCH_SIZE, \n",
        "    shuffle=True, \n",
        "    num_workers=NUM_WORKERS,  \n",
        "    collate_fn=collate_function\n",
        ")\n",
        "next(iter(train_loader))"
      ],
      "execution_count": 12,
      "outputs": [
        {
          "output_type": "execute_result",
          "data": {
            "text/plain": [
              "Batch(batch=[95045], norm=[95045, 3], pos=[95045, 3], y=[12])"
            ]
          },
          "metadata": {
            "tags": []
          },
          "execution_count": 12
        }
      ]
    },
    {
      "cell_type": "markdown",
      "metadata": {
        "colab_type": "text",
        "id": "6UkV3L28juL9"
      },
      "source": [
        "We also provide a higher level interface that builds the train and test data loaders for you based on which model you use. We use an OmegaConf config to instantiate it (or any object with a similar interface). The config must contain the arguments required by the dataset. We can also include the pre transforms, test transforms and train transforms. The transform pipeline will look like this:\n",
        "\n",
        "1. Sample a fixed number of points\n",
        "2. Add random noise to the positions\n",
        "3. Randomly rotate the point cloud around the z axis\n",
        "4. Add the normal vector to the features getting into the network\n",
        "\n",
        "The config will be as follow:"
      ]
    },
    {
      "cell_type": "code",
      "metadata": {
        "colab_type": "code",
        "id": "kmcefLM9juL-",
        "colab": {}
      },
      "source": [
        "yaml_config = \"\"\"\n",
        "task: classification\n",
        "class: modelnet.ModelNetDataset\n",
        "name: modelnet\n",
        "dataroot: %s\n",
        "number: %s\n",
        "pre_transforms:\n",
        "    - transform: NormalizeScale\n",
        "    - transform: GridSampling3D\n",
        "      lparams: [0.02]\n",
        "train_transforms:\n",
        "    - transform: FixedPoints\n",
        "      lparams: [2048]\n",
        "    - transform: RandomNoise\n",
        "    - transform: RandomRotate\n",
        "      params:\n",
        "        degrees: 180\n",
        "        axis: 2\n",
        "    - transform: AddFeatsByKeys\n",
        "      params:\n",
        "        feat_names: [norm]\n",
        "        list_add_to_x: [%r]\n",
        "        delete_feats: [True]\n",
        "test_transforms:\n",
        "    - transform: FixedPoints\n",
        "      lparams: [2048]\n",
        "    - transform: AddFeatsByKeys\n",
        "      params:\n",
        "        feat_names: [norm]\n",
        "        list_add_to_x: [%r]\n",
        "        delete_feats: [True]\n",
        "\"\"\" % (os.path.join(DIR, \"data\"),MODELNET_VERSION, USE_NORMAL, USE_NORMAL)\n",
        "\n",
        "from omegaconf import OmegaConf\n",
        "params = OmegaConf.create(yaml_config)"
      ],
      "execution_count": 13,
      "outputs": []
    },
    {
      "cell_type": "code",
      "metadata": {
        "colab_type": "code",
        "id": "LkGJygG2juMD",
        "colab": {
          "base_uri": "https://localhost:8080/",
          "height": 495
        },
        "outputId": "6eb60cce-9ed8-4d92-db21-6d033b1405cf"
      },
      "source": [
        "# Instantiate dataset\n",
        "from torch_points3d.datasets.classification.modelnet import ModelNetDataset\n",
        "dataset = ModelNetDataset(params)\n",
        "dataset"
      ],
      "execution_count": 14,
      "outputs": [
        {
          "output_type": "execute_result",
          "data": {
            "text/plain": [
              "Dataset: ModelNetDataset \n",
              "\u001b[0;95mpre_transform \u001b[0m= Compose([\n",
              "    NormalizeScale(),\n",
              "    GridSampling3D(grid_size=0.02, quantize_coords=False, mode=mean),\n",
              "])\n",
              "\u001b[0;95mtest_transform \u001b[0m= Compose([\n",
              "    FixedPoints(2048, replace=True),\n",
              "    AddFeatsByKeys(norm=True),\n",
              "])\n",
              "\u001b[0;95mtrain_transform \u001b[0m= Compose([\n",
              "    FixedPoints(2048, replace=True),\n",
              "    RandomNoise(sigma=0.01, clip=0.05),\n",
              "    RandomRotate((-180, 180), axis=2),\n",
              "    AddFeatsByKeys(norm=True),\n",
              "])\n",
              "\u001b[0;95mval_transform \u001b[0m= None\n",
              "\u001b[0;95minference_transform \u001b[0m= Compose([\n",
              "    NormalizeScale(),\n",
              "    GridSampling3D(grid_size=0.02, quantize_coords=False, mode=mean),\n",
              "    FixedPoints(2048, replace=True),\n",
              "    AddFeatsByKeys(norm=True),\n",
              "])\n",
              "Size of \u001b[0;95mtrain_dataset \u001b[0m= 9843\n",
              "Size of \u001b[0;95mtest_dataset \u001b[0m= 2468\n",
              "Size of \u001b[0;95mval_dataset \u001b[0m= 0\n",
              "\u001b[0;95mBatch size =\u001b[0m None"
            ]
          },
          "metadata": {
            "tags": []
          },
          "execution_count": 14
        }
      ]
    },
    {
      "cell_type": "markdown",
      "metadata": {
        "colab_type": "text",
        "id": "Z86lKgNejuMI"
      },
      "source": [
        "We can see here that the train and test transforms have been set properly. The batch size is still not set since the data loaders have not been instantiaded yet, let's do that now and we will have a dataset ready for training. We can also instantiate the tracker directly from the dataset which reduces potential risks in using the wrong metrics."
      ]
    },
    {
      "cell_type": "code",
      "metadata": {
        "colab_type": "code",
        "id": "EfVbU3VHjuMJ",
        "colab": {}
      },
      "source": [
        "# Setup the data loaders\n",
        "dataset.create_dataloaders(\n",
        "    model, \n",
        "    batch_size=BATCH_SIZE, \n",
        "    shuffle=True, \n",
        "    num_workers=NUM_WORKERS, \n",
        "    precompute_multi_scale=False\n",
        ")"
      ],
      "execution_count": 15,
      "outputs": []
    },
    {
      "cell_type": "code",
      "metadata": {
        "colab_type": "code",
        "id": "YC0wA65jjuMN",
        "colab": {
          "base_uri": "https://localhost:8080/",
          "height": 35
        },
        "outputId": "159200f0-a73e-4245-caee-4b95e8142348"
      },
      "source": [
        "next(iter(dataset.test_dataloaders[0]))"
      ],
      "execution_count": 16,
      "outputs": [
        {
          "output_type": "execute_result",
          "data": {
            "text/plain": [
              "SimpleBatch(pos=[12, 2048, 3], x=[12, 2048, 3], y=[12, 1])"
            ]
          },
          "metadata": {
            "tags": []
          },
          "execution_count": 16
        }
      ]
    },
    {
      "cell_type": "code",
      "metadata": {
        "colab_type": "code",
        "id": "oD9MKKlyjuMR",
        "colab": {}
      },
      "source": [
        "# Setup the tracker and actiavte tensorboard loging\n",
        "logdir = \"\" # Replace with your own path\n",
        "logdir = os.path.join(logdir, str(datetime.datetime.now()))\n",
        "os.mkdir(logdir)\n",
        "os.chdir(logdir)\n",
        "tracker = dataset.get_tracker(False, True)"
      ],
      "execution_count": 17,
      "outputs": []
    },
    {
      "cell_type": "markdown",
      "metadata": {
        "colab_type": "text",
        "id": "Cwz7oGwLjuMV"
      },
      "source": [
        "## Training!\n",
        "We can now start our training loop, we will use the Adam optimizer with a learning rate of 0.01."
      ]
    },
    {
      "cell_type": "code",
      "metadata": {
        "colab_type": "code",
        "id": "pTV-k6t4juMW",
        "colab": {}
      },
      "source": [
        "optimizer = torch.optim.Adam(model.parameters(), lr=0.01)"
      ],
      "execution_count": 18,
      "outputs": []
    },
    {
      "cell_type": "code",
      "metadata": {
        "colab_type": "code",
        "id": "7Uso46P7juMa",
        "colab": {}
      },
      "source": [
        "from torch_points3d.metrics.colored_tqdm import Coloredtqdm as Ctq\n",
        "\n",
        "def train_epoch(device):\n",
        "    model.to(device)\n",
        "    model.train()\n",
        "    tracker.reset(\"train\")\n",
        "    train_loader = dataset.train_dataloader\n",
        "    iter_data_time = time.time()\n",
        "    with Ctq(train_loader) as tq_train_loader:\n",
        "        for i, data in enumerate(tq_train_loader):\n",
        "            t_data = time.time() - iter_data_time\n",
        "            iter_start_time = time.time()\n",
        "            optimizer.zero_grad()\n",
        "            data.to(device)\n",
        "            model.forward(data)\n",
        "            model.backward()\n",
        "            optimizer.step()\n",
        "            if i % 10 == 0:\n",
        "                tracker.track(model)\n",
        "\n",
        "            tq_train_loader.set_postfix(\n",
        "                **tracker.get_metrics(),\n",
        "                data_loading=float(t_data),\n",
        "                iteration=float(time.time() - iter_start_time),\n",
        "            )\n",
        "            iter_data_time = time.time()\n",
        "\n",
        "def test_epoch(device):\n",
        "    model.to(device)\n",
        "    model.eval()\n",
        "    tracker.reset(\"test\")\n",
        "    test_loader = dataset.test_dataloaders[0]\n",
        "    iter_data_time = time.time()\n",
        "    with Ctq(test_loader) as tq_test_loader:\n",
        "        for i, data in enumerate(tq_test_loader):\n",
        "            t_data = time.time() - iter_data_time\n",
        "            iter_start_time = time.time()\n",
        "            data.to(device)\n",
        "            model.forward(data)           \n",
        "            tracker.track(model)\n",
        "\n",
        "            tq_test_loader.set_postfix(\n",
        "                **tracker.get_metrics(),\n",
        "                data_loading=float(t_data),\n",
        "                iteration=float(time.time() - iter_start_time),\n",
        "            )\n",
        "            iter_data_time = time.time()"
      ],
      "execution_count": 19,
      "outputs": []
    },
    {
      "cell_type": "code",
      "metadata": {
        "colab_type": "code",
        "id": "mfuxvTRbjuMe",
        "colab": {
          "base_uri": "https://localhost:8080/",
          "height": 594,
          "referenced_widgets": [
            "9356ad5970d54c528b99a5123a60cea2",
            "d253410a9eb44a1fab5a67cdc5fdde42",
            "c8152fed712f4c378f0c82949bd99c65",
            "ba7c0485fe7e4189aa02c1605cf78f88",
            "f7f0d425bce54f0fa0a7a1029a8df3a0",
            "2151ee6bc3244827b5d58268d4afa180",
            "18d339a777454f3ea9d904565d1b039c",
            "7c4b51b608344736a48c79225acde1b9",
            "451ef9e739ab4102b7e81e25cf606cf3",
            "36d24f0eb1954d6e9046f1786bdb3d37",
            "3de667f1bc2844edb625df5b5e5a0a81",
            "b8b930418bcb43fd8e0827cf15bba828",
            "dbed69f8b4434f0f807d77e2ec475cb6",
            "eb6e8b18cb6d4d07bfd1efdd4497e20a",
            "678f0a76a0a24300ae00431bc7e7089b",
            "4b824a8f1c5f4b6fbfc3207a4d004d4a",
            "3ab9bdfebdb742e8a58072743bb73b20",
            "dc5797a405bf420abd94e722239859a9",
            "07dcbf9a1d97499c8edd32a96c3a443e",
            "d2478fba243d40ba8b6c324fd33a2ef2",
            "710df54acf3746e08f4558d153e45e37",
            "e333f564560d40e6843a1a41f064cf35",
            "90ec695d548642d180d8497a30a2b1f4",
            "796f9f7b5a934149b0122c69624411d0",
            "d3ea1518f7db4cdd8a679819168c2164",
            "d2bcb9b9fe67455abb7b65ae23f1128e",
            "4df14c2b484a4344b048ba37666c38a6",
            "e6318da159e74bc0a90eac731875fef0",
            "f435adc8a0904b12a5c59ecc6dcd391c",
            "a4cb579db2ae4416b3f041632ff6a1f6",
            "c75b805e551e48dbbbc39871d4b70a6a",
            "ab7a1682a0db4f0288c2466e548ff1c8",
            "b502cd2db737485abef2a26ec82bcc28",
            "95a73ae5d0684b60841335ac8787d975",
            "c53c0cec649846dba3d97c30a5b2f233",
            "c9182db9655649218188fa900b632d7f",
            "247f4c66af62407c9ac40c3b7f77246b",
            "ceca76b477d1489597b3a31cd2cc4546",
            "84cb21f4748d46128cc3d7ba28a0128a",
            "b3c3c260212c458db1b69f4374b9293d",
            "ded61346f4a345bf868c4845c2caf1b8",
            "d6a2215348474dc7bd5dfce5fa953523",
            "c7e44ae745c74c5fbf7639f09173cfb5",
            "e6a4e4397ec145b386d8b3475d047b66",
            "fd1c7f6b7efc46458609ecc74701d426",
            "1798e045199a484b97da96c3a253571a",
            "3f47a927657841709998ea217124d2bb",
            "74941e6fb73d427588a01f2206443dde",
            "e2c2e9e41232477ba3e05df3592efba2",
            "6b2e3f6b4d62473ca9626a0afbd44993",
            "02fb4650415b42fd82cba3a5d716ac98",
            "d781e717126944979d88c80bfd0836c0",
            "45f3610583a94dc3bd3765c42b81df98",
            "2eb3bd2a4cf24029820a68cce7632827",
            "7d37e913cd9b4c8f9634e387e0fdb49c",
            "8eaf1be839ed4625a4ac4c7cf5a05b03",
            "5ff4e07f033d48cc8aa731897356e1e1",
            "789f392fc46d4820a11588256a81c38c",
            "f938ab1a07974328807cfb85d8f6618d",
            "ed959a244ba34cf9a7202e8baa634282",
            "1b5c43f935e5413c8c8c75753d7f3fa6",
            "3de8e486f56c4699bf7c2c2cd9aaa3f8",
            "2dd7069d2b6b4b0aabb8efae69c10faa",
            "335ef78c7aa44d0bb8dd078e1fa9070d",
            "eb4fa24686694fd389fce44b10a05c62",
            "526c8e425f004736bb8bb8b5a8296995",
            "3cb5536a1ad944089e2bd7cd53f95051",
            "b14581fcc84d404cb765df552988b896",
            "ef606f5dcf91446d960eae089a46bbc2",
            "2bd6d4a1b0934311964dafa439c7a99d",
            "8c9dc0edb2e24876be211bedcf4980b6",
            "2d8cd5f359a14c1a9d989ab0001d4109",
            "c28dbbbad2914215bf51fdbf95a4921a",
            "6db8e9284672427a9344b66fcd73bfb9",
            "06addc65ecf844b480bfb7fb450b3754",
            "76b078d22284471693b74e064dd38d84",
            "2f89d85e5b1046848e39719cd207dc29",
            "f347e6f996ee451abc1caac0b89aa43a",
            "f726649a59614bc3b89ec8e8f0ba9694",
            "7562dad49922423789fcdc59d490870b"
          ]
        },
        "outputId": "5ddd472d-3364-41e3-f1be-445376869769"
      },
      "source": [
        "EPOCHS = 50\n",
        "for i in range(EPOCHS):\n",
        "  print(\"=========== EPOCH %i ===========\" % i)\n",
        "  time.sleep(0.5)\n",
        "  train_epoch('cuda')\n",
        "  tracker.publish(i)\n",
        "  test_epoch('cuda')\n",
        "  tracker.publish(i)"
      ],
      "execution_count": null,
      "outputs": [
        {
          "output_type": "stream",
          "text": [
            "=========== EPOCH 0 ===========\n"
          ],
          "name": "stdout"
        },
        {
          "output_type": "display_data",
          "data": {
            "application/vnd.jupyter.widget-view+json": {
              "model_id": "9356ad5970d54c528b99a5123a60cea2",
              "version_minor": 0,
              "version_major": 2
            },
            "text/plain": [
              "HBox(children=(FloatProgress(value=0.0, max=821.0), HTML(value='')))"
            ]
          },
          "metadata": {
            "tags": []
          }
        },
        {
          "output_type": "stream",
          "text": [
            "\n"
          ],
          "name": "stdout"
        },
        {
          "output_type": "display_data",
          "data": {
            "application/vnd.jupyter.widget-view+json": {
              "model_id": "451ef9e739ab4102b7e81e25cf606cf3",
              "version_minor": 0,
              "version_major": 2
            },
            "text/plain": [
              "HBox(children=(FloatProgress(value=0.0, max=206.0), HTML(value='')))"
            ]
          },
          "metadata": {
            "tags": []
          }
        },
        {
          "output_type": "stream",
          "text": [
            "\n",
            "=========== EPOCH 1 ===========\n"
          ],
          "name": "stdout"
        },
        {
          "output_type": "display_data",
          "data": {
            "application/vnd.jupyter.widget-view+json": {
              "model_id": "3ab9bdfebdb742e8a58072743bb73b20",
              "version_minor": 0,
              "version_major": 2
            },
            "text/plain": [
              "HBox(children=(FloatProgress(value=0.0, max=821.0), HTML(value='')))"
            ]
          },
          "metadata": {
            "tags": []
          }
        },
        {
          "output_type": "stream",
          "text": [
            "\n"
          ],
          "name": "stdout"
        },
        {
          "output_type": "display_data",
          "data": {
            "application/vnd.jupyter.widget-view+json": {
              "model_id": "d3ea1518f7db4cdd8a679819168c2164",
              "version_minor": 0,
              "version_major": 2
            },
            "text/plain": [
              "HBox(children=(FloatProgress(value=0.0, max=206.0), HTML(value='')))"
            ]
          },
          "metadata": {
            "tags": []
          }
        },
        {
          "output_type": "stream",
          "text": [
            "\n",
            "=========== EPOCH 2 ===========\n"
          ],
          "name": "stdout"
        },
        {
          "output_type": "display_data",
          "data": {
            "application/vnd.jupyter.widget-view+json": {
              "model_id": "b502cd2db737485abef2a26ec82bcc28",
              "version_minor": 0,
              "version_major": 2
            },
            "text/plain": [
              "HBox(children=(FloatProgress(value=0.0, max=821.0), HTML(value='')))"
            ]
          },
          "metadata": {
            "tags": []
          }
        },
        {
          "output_type": "stream",
          "text": [
            "\n"
          ],
          "name": "stdout"
        },
        {
          "output_type": "display_data",
          "data": {
            "application/vnd.jupyter.widget-view+json": {
              "model_id": "ded61346f4a345bf868c4845c2caf1b8",
              "version_minor": 0,
              "version_major": 2
            },
            "text/plain": [
              "HBox(children=(FloatProgress(value=0.0, max=206.0), HTML(value='')))"
            ]
          },
          "metadata": {
            "tags": []
          }
        },
        {
          "output_type": "stream",
          "text": [
            "\n",
            "=========== EPOCH 3 ===========\n"
          ],
          "name": "stdout"
        },
        {
          "output_type": "display_data",
          "data": {
            "application/vnd.jupyter.widget-view+json": {
              "model_id": "e2c2e9e41232477ba3e05df3592efba2",
              "version_minor": 0,
              "version_major": 2
            },
            "text/plain": [
              "HBox(children=(FloatProgress(value=0.0, max=821.0), HTML(value='')))"
            ]
          },
          "metadata": {
            "tags": []
          }
        },
        {
          "output_type": "stream",
          "text": [
            "\n"
          ],
          "name": "stdout"
        },
        {
          "output_type": "display_data",
          "data": {
            "application/vnd.jupyter.widget-view+json": {
              "model_id": "5ff4e07f033d48cc8aa731897356e1e1",
              "version_minor": 0,
              "version_major": 2
            },
            "text/plain": [
              "HBox(children=(FloatProgress(value=0.0, max=206.0), HTML(value='')))"
            ]
          },
          "metadata": {
            "tags": []
          }
        },
        {
          "output_type": "stream",
          "text": [
            "\n",
            "=========== EPOCH 4 ===========\n"
          ],
          "name": "stdout"
        },
        {
          "output_type": "display_data",
          "data": {
            "application/vnd.jupyter.widget-view+json": {
              "model_id": "eb4fa24686694fd389fce44b10a05c62",
              "version_minor": 0,
              "version_major": 2
            },
            "text/plain": [
              "HBox(children=(FloatProgress(value=0.0, max=821.0), HTML(value='')))"
            ]
          },
          "metadata": {
            "tags": []
          }
        },
        {
          "output_type": "stream",
          "text": [
            "\n"
          ],
          "name": "stdout"
        },
        {
          "output_type": "display_data",
          "data": {
            "application/vnd.jupyter.widget-view+json": {
              "model_id": "c28dbbbad2914215bf51fdbf95a4921a",
              "version_minor": 0,
              "version_major": 2
            },
            "text/plain": [
              "HBox(children=(FloatProgress(value=0.0, max=206.0), HTML(value='')))"
            ]
          },
          "metadata": {
            "tags": []
          }
        }
      ]
    },
    {
      "cell_type": "code",
      "metadata": {
        "colab_type": "code",
        "id": "Bak51OOoBSi3",
        "colab": {}
      },
      "source": [
        "%tensorboard --logdir tensorboard"
      ],
      "execution_count": null,
      "outputs": []
    },
    {
      "cell_type": "markdown",
      "metadata": {
        "colab_type": "text",
        "id": "N47pg8HjRRSy"
      },
      "source": [
        "![image.png](data:image/png;base64,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)"
      ]
    },
    {
      "cell_type": "code",
      "metadata": {
        "colab_type": "code",
        "id": "b4bjdptkX79f",
        "colab": {}
      },
      "source": [
        ""
      ],
      "execution_count": null,
      "outputs": []
    }
  ]
}