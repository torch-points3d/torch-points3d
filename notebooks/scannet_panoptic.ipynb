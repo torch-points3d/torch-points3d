{
 "cells": [
  {
   "cell_type": "markdown",
   "metadata": {},
   "source": [
    "# Scannet panoptic vizualisation"
   ]
  },
  {
   "cell_type": "code",
   "execution_count": null,
   "metadata": {},
   "outputs": [],
   "source": [
    "%load_ext autoreload\n",
    "%autoreload 2\n",
    "import os\n",
    "import sys\n",
    "import importlib\n",
    "\n",
    "DIR = os.path.dirname(os.getcwd())\n",
    "torch_points3d = os.path.join(DIR, \"torch_points3d\")\n",
    "assert os.path.exists(torch_points3d)\n",
    "\n",
    "MODULE_PATH = os.path.join(torch_points3d, \"__init__.py\")\n",
    "MODULE_NAME = \"torch_points3d\"\n",
    "spec = importlib.util.spec_from_file_location(MODULE_NAME, MODULE_PATH)\n",
    "module = importlib.util.module_from_spec(spec)\n",
    "sys.modules[spec.name] = module\n",
    "spec.loader.exec_module(module)"
   ]
  },
  {
   "cell_type": "code",
   "execution_count": null,
   "metadata": {},
   "outputs": [],
   "source": [
    "%load_ext autoreload\n",
    "%autoreload 2\n",
    "import os\n",
    "import sys\n",
    "import panel as pn\n",
    "import numpy as np\n",
    "import pyvista as pv\n",
    "pv.set_plot_theme(\"document\")\n",
    "\n",
    "\n",
    "import glob\n",
    "from matplotlib.colors import ListedColormap\n",
    "from omegaconf import OmegaConf\n",
    "import random\n",
    "\n",
    "pn.extension('vtk')\n",
    "os.system('/usr/bin/Xvfb :99 -screen 0 1024x768x24 &')\n",
    "os.environ['DISPLAY'] = ':99'\n",
    "os.environ['PYVISTA_OFF_SCREEN'] = 'True'\n",
    "os.environ['PYVISTA_USE_PANEL'] = 'True'\n",
    "\n",
    "DIR = os.path.dirname(os.getcwd())\n",
    "sys.path.append(DIR)\n",
    "\n",
    "from torch_points3d.datasets.panoptic.scannet import ScannetDataset, ScannetPanoptic\n",
    "from torch_points3d.datasets.segmentation.scannet import Scannet, SCANNET_COLOR_MAP\n",
    "from torch_points3d.datasets.segmentation import IGNORE_LABEL"
   ]
  },
  {
   "cell_type": "markdown",
   "metadata": {},
   "source": [
    "## Load Scannet dataset"
   ]
  },
  {
   "cell_type": "code",
   "execution_count": null,
   "metadata": {},
   "outputs": [],
   "source": [
    "dataset_options = OmegaConf.load(os.path.join(DIR,'conf/data/panoptic/scannet-sparse.yaml'))"
   ]
  },
  {
   "cell_type": "code",
   "execution_count": null,
   "metadata": {},
   "outputs": [],
   "source": [
    "dataset_options.data.dataroot = os.path.join(DIR,\"data\")\n",
    "dataset = ScannetDataset(dataset_options.data)\n",
    "dataset.train_dataset.transform = None\n",
    "print(dataset)"
   ]
  },
  {
   "cell_type": "markdown",
   "metadata": {},
   "source": [
    "## Visualise the data"
   ]
  },
  {
   "cell_type": "code",
   "execution_count": null,
   "metadata": {},
   "outputs": [],
   "source": [
    "d = dataset.train_dataset[0]"
   ]
  },
  {
   "cell_type": "code",
   "execution_count": null,
   "metadata": {},
   "outputs": [],
   "source": [
    "d"
   ]
  },
  {
   "cell_type": "code",
   "execution_count": null,
   "metadata": {},
   "outputs": [],
   "source": [
    "def buil_cmap():\n",
    "    mapping = np.linspace(IGNORE_LABEL, len(Scannet.VALID_CLASS_IDS)+1, 256)\n",
    "    newcolors = np.zeros((256, 3))\n",
    "    for i, raw_label in enumerate(Scannet.VALID_CLASS_IDS):\n",
    "        newcolors[mapping >= i-0.5] = np.asarray(Scannet.SCANNET_COLOR_MAP[raw_label]) / 255.\n",
    "    return ListedColormap(newcolors)\n",
    "cmap = buil_cmap()"
   ]
  },
  {
   "cell_type": "code",
   "execution_count": null,
   "metadata": {},
   "outputs": [],
   "source": [
    "def load_random_data(event):\n",
    "    i = np.random.randint(0, len(dataset.train_dataset))\n",
    "    sample = dataset.train_dataset[i]\n",
    "    pl = pv.Plotter(notebook=True)\n",
    "    pl2 = pv.Plotter(notebook=True)\n",
    "    \n",
    "    # Color by points with a label\n",
    "    mask = sample.instance_mask\n",
    "    point_cloud = pv.PolyData(sample.pos[mask==False].numpy())\n",
    "    labels = sample.y[mask==False].numpy()\n",
    "    point_cloud['label'] = labels\n",
    "    pl.add_points(point_cloud,cmap=cmap, clim=[-1, len(Scannet.VALID_CLASS_IDS)+1], point_size=1)\n",
    "    pl2.add_points(point_cloud,color='gray', point_size=1)\n",
    "    \n",
    "    # Color by points with a label\n",
    "    for i in range(1,sample.num_instances.item()+1):\n",
    "        instance_mask = sample.instance_labels == i\n",
    "        point_cloud = pv.PolyData(sample.pos[instance_mask].numpy())\n",
    "        labels = sample.y[instance_mask].numpy()\n",
    "        point_cloud['label'] = labels\n",
    "        pl.add_points(point_cloud,cmap=cmap, clim=[-1, len(Scannet.VALID_CLASS_IDS)+1])\n",
    "        \n",
    "    centre = sample.pos[sample.instance_mask] + sample.vote_label[sample.instance_mask]\n",
    "    pl2.add_points(centre.numpy(), color='red')\n",
    "\n",
    "    pan.object = pl.ren_win\n",
    "    pan2.object = pl2.ren_win"
   ]
  },
  {
   "cell_type": "code",
   "execution_count": null,
   "metadata": {},
   "outputs": [],
   "source": [
    "pl = pv.Plotter(notebook=True)\n",
    "pl2 = pv.Plotter(notebook=True)\n",
    "pan = pn.panel(pl.ren_win, sizing_mode='scale_both', aspect_ratio=1,orientation_widget=True,)\n",
    "pan2 = pn.panel(pl2.ren_win, sizing_mode='scale_both', aspect_ratio=1,orientation_widget=True,)\n",
    "button = pn.widgets.Button(name='Load new model', button_type='primary')\n",
    "button.on_click(load_random_data)\n",
    "pn.Row(\n",
    "    pn.Column('## Scannet vizualiser',button),\n",
    "    pn.Column(pan,'INSTANCE LABELS'),\n",
    "    pn.Column(pan2, 'CENTER LABELS')\n",
    ")"
   ]
  },
  {
   "cell_type": "code",
   "execution_count": null,
   "metadata": {},
   "outputs": [],
   "source": []
  },
  {
   "cell_type": "code",
   "execution_count": null,
   "metadata": {},
   "outputs": [],
   "source": []
  },
  {
   "cell_type": "code",
   "execution_count": null,
   "metadata": {},
   "outputs": [],
   "source": []
  },
  {
   "cell_type": "code",
   "execution_count": null,
   "metadata": {},
   "outputs": [],
   "source": []
  }
 ],
 "metadata": {
  "kernelspec": {
   "display_name": "Python 3",
   "language": "python",
   "name": "python3"
  },
  "language_info": {
   "codemirror_mode": {
    "name": "ipython",
    "version": 3
   },
   "file_extension": ".py",
   "mimetype": "text/x-python",
   "name": "python",
   "nbconvert_exporter": "python",
   "pygments_lexer": "ipython3",
   "version": "3.6.10"
  }
 },
 "nbformat": 4,
 "nbformat_minor": 4
}
