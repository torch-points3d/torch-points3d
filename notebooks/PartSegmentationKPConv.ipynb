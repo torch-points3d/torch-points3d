{
 "cells": [
  {
   "cell_type": "markdown",
   "metadata": {
    "colab_type": "text",
    "id": "view-in-github"
   },
   "source": [
    "<a href=\"https://colab.research.google.com/github/nicolas-chaulet/torch-points3d/blob/master/notebooks/PartSegmentationKPConv.ipynb\" target=\"_parent\"><img src=\"https://colab.research.google.com/assets/colab-badge.svg\" alt=\"Open In Colab\"/></a>"
   ]
  },
  {
   "cell_type": "code",
   "execution_count": null,
   "metadata": {
    "colab": {
     "base_uri": "https://localhost:8080/",
     "height": 1000
    },
    "colab_type": "code",
    "id": "sMPGNDv1vDn0",
    "outputId": "49511f57-81be-4e38-d427-c8c6b3b6abab"
   },
   "outputs": [],
   "source": [
    "# Setup packages\n",
    "!pip install torch==1.3.1 pyvista torchvision==0.4.2 pytorch-lightning\n",
    "!pip install --upgrade jsonschema\n",
    "!pip install torch-points3d\n",
    "!apt-get install -qq xvfb libgl1-mesa-glx"
   ]
  },
  {
   "cell_type": "code",
   "execution_count": null,
   "metadata": {
    "colab": {
     "base_uri": "https://localhost:8080/",
     "height": 34
    },
    "colab_type": "code",
    "id": "7_9hcYlFvOv6",
    "outputId": "86e91b94-5550-4f01-b68e-f2e760c66ebf"
   },
   "outputs": [],
   "source": [
    "# Needed for remote rendering \n",
    "import os\n",
    "os.environ[\"DISPLAY\"] = \":1.0\"\n",
    "os.environ[\"PYVISTA_OFF_SCREEN\"]=\"true\"\n",
    "os.environ[\"PYVISTA_PLOT_THEME\"]=\"true\"\n",
    "os.environ[\"PYVISTA_USE_PANEL\"]=\"true\"\n",
    "os.environ[\"PYVISTA_AUTO_CLOSE\"]=\"false\"\n",
    "os.system(\"Xvfb :1 -screen 0 1024x768x24 > /dev/null 2>&1 &\")"
   ]
  },
  {
   "cell_type": "code",
   "execution_count": null,
   "metadata": {
    "colab": {},
    "colab_type": "code",
    "id": "HGza3XTYvQNC"
   },
   "outputs": [],
   "source": [
    "import os\n",
    "import sys\n",
    "from omegaconf import OmegaConf\n",
    "import pyvista as pv\n",
    "import torch\n",
    "import numpy as np"
   ]
  },
  {
   "cell_type": "code",
   "execution_count": null,
   "metadata": {
    "colab": {},
    "colab_type": "code",
    "id": "Q44YjGjrvg2j"
   },
   "outputs": [],
   "source": [
    "DIR = \"\" # Replace with your root directory, the data will go in DIR/data."
   ]
  },
  {
   "cell_type": "markdown",
   "metadata": {
    "colab_type": "text",
    "id": "izN8KU_tv5JR"
   },
   "source": [
    "<p align=\"center\">\n",
    "  <img width=\"40%\" src=\"https://raw.githubusercontent.com/nicolas-chaulet/torch-points3d/master/docs/logo.png\" />\n",
    "</p>"
   ]
  },
  {
   "cell_type": "markdown",
   "metadata": {
    "colab_type": "text",
    "id": "Mgox3ksbv-s1"
   },
   "source": [
    "# Segmenting objects in part with KPConv\n",
    "In this notebook we will solve the task of segmenting an object into its sub parts by using a [KPConv](https://arxiv.org/abs/1904.08889) deep neural network.\n",
    "We will work on [ShapeNet](https://www.shapenet.org/) dataset which contains 48,600 3D models over 55 common categories with part annotations. We will show you how you can use Torch Points3D to setup a KPConv backbone with a multi head classifier and train it on ShapeNet. We will in particular cover the CPU pre processing of the data that allows a complex KPConv to perform well."
   ]
  },
  {
   "cell_type": "markdown",
   "metadata": {
    "colab_type": "text",
    "id": "wyFtUQhGybFc"
   },
   "source": [
    "## The dataset\n",
    "We use Torch Points3D version of ShapeNet that provides automatic download (be patient, it takes some time...) of the data, a tested metric tracker as well as methods for pre computing the spatial operations such as neighbour search and grid sampling on CPU.\n",
    "\n",
    "Let's start with the data config (if you want more details about that part of Torch Points3D please refer to this notebook)."
   ]
  },
  {
   "cell_type": "code",
   "execution_count": null,
   "metadata": {
    "cellView": "form",
    "colab": {},
    "colab_type": "code",
    "id": "JnLlPJ_dmzOV"
   },
   "outputs": [],
   "source": [
    "#@title Configure the dataset {run: \"auto\"}\n",
    "CATEGORY = \"All\" #@param [\"Airplane\", \"Bag\", \"All\", \"Motorbike\"] {allow-input: true}\n",
    "USE_NORMALS = True #@param {type:\"boolean\"}|"
   ]
  },
  {
   "cell_type": "code",
   "execution_count": null,
   "metadata": {
    "colab": {},
    "colab_type": "code",
    "id": "PBRS6vxSvjRo"
   },
   "outputs": [],
   "source": [
    "shapenet_yaml = \"\"\"\n",
    "class: shapenet.ShapeNetDataset\n",
    "task: segmentation\n",
    "dataroot: %s\n",
    "normal: %r                                    # Use normal vectors as features\n",
    "first_subsampling: 0.02                       # Grid size of the input data\n",
    "pre_transforms:                               # Offline transforms, done only once\n",
    "    - transform: NormalizeScale           \n",
    "    - transform: GridSampling3D\n",
    "      params:\n",
    "        size: ${first_subsampling}\n",
    "train_transforms:                             # Data augmentation pipeline\n",
    "    - transform: RandomNoise\n",
    "      params:\n",
    "        sigma: 0.01\n",
    "        clip: 0.05\n",
    "    - transform: RandomScaleAnisotropic\n",
    "      params:\n",
    "        scales: [0.9,1.1]\n",
    "    - transform: AddOnes\n",
    "    - transform: AddFeatsByKeys\n",
    "      params:\n",
    "        list_add_to_x: [True]\n",
    "        feat_names: [\"ones\"]\n",
    "        delete_feats: [True]\n",
    "test_transforms:\n",
    "    - transform: AddOnes\n",
    "    - transform: AddFeatsByKeys\n",
    "      params:\n",
    "        list_add_to_x: [True]\n",
    "        feat_names: [\"ones\"]\n",
    "        delete_feats: [True]\n",
    "\"\"\" % (os.path.join(DIR,\"data\"), USE_NORMALS) \n",
    "\n",
    "from omegaconf import OmegaConf\n",
    "params = OmegaConf.create(shapenet_yaml)\n",
    "if CATEGORY != \"All\":\n",
    "    params.category = CATEGORY"
   ]
  },
  {
   "cell_type": "code",
   "execution_count": null,
   "metadata": {
    "colab": {
     "base_uri": "https://localhost:8080/",
     "height": 590
    },
    "colab_type": "code",
    "id": "eQFRmfUYzXX1",
    "outputId": "57010774-624e-40aa-a498-78d6d4b5b5d8"
   },
   "outputs": [],
   "source": [
    "from torch_points3d.datasets.segmentation import ShapeNetDataset\n",
    "dataset = ShapeNetDataset(params)\n",
    "dataset"
   ]
  },
  {
   "cell_type": "code",
   "execution_count": null,
   "metadata": {
    "cellView": "form",
    "colab": {
     "base_uri": "https://localhost:8080/",
     "height": 396
    },
    "colab_type": "code",
    "id": "wAN1JCiU1pFW",
    "outputId": "a5fc125a-156f-4887-f04f-bb8784a79a44"
   },
   "outputs": [],
   "source": [
    "#@title Plot samples with part annotations { run: \"auto\" }\n",
    "objectid_1 = 9 #@param {type:\"slider\", min:0, max:100, step:1}\n",
    "objectid_2 = 82 #@param {type:\"slider\", min:0, max:100, step:1}\n",
    "objectid_3 = 95 #@param {type:\"slider\", min:0, max:100, step:1}\n",
    "\n",
    "samples = [objectid_1,objectid_2,objectid_3]\n",
    "p = pv.Plotter(notebook=True,shape=(1, len(samples)),window_size=[1024,412])\n",
    "for i in range(len(samples)):\n",
    "    p.subplot(0, i)\n",
    "    sample = dataset.train_dataset[samples[i]]\n",
    "    point_cloud = pv.PolyData(sample.pos.numpy())\n",
    "    point_cloud['y'] = sample.y.numpy()\n",
    "    p.add_points(point_cloud,  show_scalar_bar=False, point_size=3)\n",
    "    p.camera_position = [-1,5, -10]\n",
    "p.show()"
   ]
  },
  {
   "cell_type": "markdown",
   "metadata": {
    "colab_type": "text",
    "id": "sLSGJVf30G1C"
   },
   "source": [
    "## Model for part segmentation\n",
    "Let's start by creating a multihead segmentation module with one segmentation head per category. We provide that as part of Torch Points3D but let's reproduce it here for sake of completeness."
   ]
  },
  {
   "cell_type": "code",
   "execution_count": null,
   "metadata": {
    "colab": {},
    "colab_type": "code",
    "id": "V4k79sQhzryp"
   },
   "outputs": [],
   "source": [
    "from torch_points3d.core.common_modules import MLP, UnaryConv\n",
    "\n",
    "class MultiHeadClassifier(torch.nn.Module):\n",
    "    \"\"\" Allows segregated segmentation in case the category of an object is known. \n",
    "    This is the case in ShapeNet for example.\n",
    "\n",
    "    Parameters\n",
    "    ----------\n",
    "    in_features -\n",
    "        size of the input channel\n",
    "    cat_to_seg\n",
    "        category to segment maps for example:\n",
    "        {\n",
    "            'Airplane': [0,1,2],\n",
    "            'Table': [3,4]\n",
    "        }\n",
    "\n",
    "    \"\"\"\n",
    "\n",
    "    def __init__(self, in_features, cat_to_seg, dropout_proba=0.5, bn_momentum=0.1):\n",
    "        super().__init__()\n",
    "        self._cat_to_seg = {}\n",
    "        self._num_categories = len(cat_to_seg)\n",
    "        self._max_seg_count = 0\n",
    "        self._max_seg = 0\n",
    "        self._shifts = torch.zeros((self._num_categories,), dtype=torch.long)\n",
    "        for i, seg in enumerate(cat_to_seg.values()):\n",
    "            self._max_seg_count = max(self._max_seg_count, len(seg))\n",
    "            self._max_seg = max(self._max_seg, max(seg))\n",
    "            self._shifts[i] = min(seg)\n",
    "            self._cat_to_seg[i] = seg\n",
    "\n",
    "        self.channel_rasing = MLP(\n",
    "            [in_features, self._num_categories * in_features], bn_momentum=bn_momentum, bias=False\n",
    "        )\n",
    "        if dropout_proba:\n",
    "            self.channel_rasing.add_module(\"Dropout\", torch.nn.Dropout(p=dropout_proba))\n",
    "\n",
    "        self.classifier = UnaryConv((self._num_categories, in_features, self._max_seg_count))\n",
    "        self._bias = torch.nn.Parameter(torch.zeros(self._max_seg_count,))\n",
    "\n",
    "    def forward(self, features, category_labels, **kwargs):\n",
    "        assert features.dim() == 2\n",
    "        self._shifts = self._shifts.to(features.device)\n",
    "        in_dim = features.shape[-1]\n",
    "        features = self.channel_rasing(features)\n",
    "        features = features.reshape((-1, self._num_categories, in_dim))\n",
    "        features = features.transpose(0, 1)  # [num_categories, num_points, in_dim]\n",
    "        features = self.classifier(features) + self._bias  # [num_categories, num_points, max_seg]\n",
    "        ind = category_labels.unsqueeze(-1).repeat(1, 1, features.shape[-1]).long()\n",
    "\n",
    "        logits = features.gather(0, ind).squeeze(0)\n",
    "        softmax = torch.nn.functional.log_softmax(logits, dim=-1)\n",
    "\n",
    "        output = torch.zeros(logits.shape[0], self._max_seg + 1).to(features.device)\n",
    "        cats_in_batch = torch.unique(category_labels)\n",
    "        for cat in cats_in_batch:\n",
    "            cat_mask = category_labels == cat\n",
    "            seg_indices = self._cat_to_seg[cat.item()]\n",
    "            probs = softmax[cat_mask, : len(seg_indices)]\n",
    "            output[cat_mask, seg_indices[0] : seg_indices[-1] + 1] = probs\n",
    "        \n",
    "        return output"
   ]
  },
  {
   "cell_type": "markdown",
   "metadata": {
    "colab_type": "text",
    "id": "vk2LyH-IT2KG"
   },
   "source": [
    "The model we implement here follows the main architecture proposed in the [original paper](https://arxiv.org/abs/1904.08889):\n",
    "\n",
    "<p align=\"center\">\n",
    "  <img width=\"70%\" src=\"https://drive.google.com/uc?export=view&id=1CJppQ88T69whjYsJc016L3_E_rtcJ8n1\" />\n",
    "</p>"
   ]
  },
  {
   "cell_type": "code",
   "execution_count": null,
   "metadata": {
    "colab": {
     "base_uri": "https://localhost:8080/",
     "height": 72
    },
    "colab_type": "code",
    "id": "ZnyHC6Gx1nIw",
    "outputId": "ca2f91c0-c759-4d5e-ad6f-08ac489edf37"
   },
   "outputs": [],
   "source": [
    "from torch_points3d.applications.kpconv import KPConv\n",
    "\n",
    "\n",
    "class PartSegKPConv(torch.nn.Module):\n",
    "    def __init__(self, cat_to_seg):\n",
    "        super().__init__()\n",
    "        self.unet = KPConv(\n",
    "            architecture=\"unet\", \n",
    "            input_nc=USE_NORMALS * 3, \n",
    "            num_layers=4, \n",
    "            in_grid_size=0.02\n",
    "            )\n",
    "        self.classifier = MultiHeadClassifier(self.unet.output_nc, cat_to_seg)\n",
    "    \n",
    "    @property\n",
    "    def conv_type(self):\n",
    "        \"\"\" This is needed by the dataset to infer which batch collate should be used\"\"\"\n",
    "        return self.unet.conv_type\n",
    "    \n",
    "    def get_batch(self):\n",
    "        return self.batch\n",
    "    \n",
    "    def get_output(self):\n",
    "        \"\"\" This is needed by the tracker to get access to the ouputs of the network\"\"\"\n",
    "        return self.output\n",
    "    \n",
    "    def get_labels(self):\n",
    "        \"\"\" Needed by the tracker in order to access ground truth labels\"\"\"\n",
    "        return self.labels\n",
    "    \n",
    "    def get_current_losses(self):\n",
    "        \"\"\" Entry point for the tracker to grab the loss \"\"\"\n",
    "        return {\"loss_seg\": float(self.loss_seg)}\n",
    "\n",
    "    def forward(self, data):\n",
    "        self.labels = data.y\n",
    "        self.batch = data.batch\n",
    "        \n",
    "        # Forward through unet and classifier\n",
    "        data_features = self.unet(data)\n",
    "        self.output = self.classifier(data_features.x, data.category)\n",
    "\n",
    "         # Set loss for the backward pass\n",
    "        self.loss_seg = torch.nn.functional.nll_loss(self.output, self.labels)\n",
    "        return self.output\n",
    "\n",
    "    def get_spatial_ops(self):\n",
    "        return self.unet.get_spatial_ops()\n",
    "        \n",
    "    def backward(self):\n",
    "         self.loss_seg.backward() \n",
    "\n",
    "    "
   ]
  },
  {
   "cell_type": "code",
   "execution_count": null,
   "metadata": {
    "colab": {},
    "colab_type": "code",
    "id": "QQ0GUiv22KKb"
   },
   "outputs": [],
   "source": [
    "model = PartSegKPConv(dataset.class_to_segments)"
   ]
  },
  {
   "cell_type": "markdown",
   "metadata": {
    "colab_type": "text",
    "id": "k9Bx8GjE3Kt7"
   },
   "source": [
    "## The data loaders and CPU pre computing features\n",
    "KPConv is quite demanding on spatial operations such as grid sampling and radius search. On the network loaded here we have 10 KPConv layers on the encoder which means 10 radius search operations with varying number of neighbours. We observed a significant performance gain by moving those operations to the CPU where they can easily be optimised with suitable data structures such as kd-tree. We use [nonaflann](https://github.com/jlblancoc/nanoflann) in the back-end, a 3D optimised kd-tree implementation. Note that this is beneficiary only if you have access to multiple CPU threads.\n",
    "\n",
    "You can decide to precompute those spatial operations by setting the `precompute_multi_scale` parameter to `True` when creating the data loaders. The dataset will mine the model to figure out which spatial operations are required and in which order."
   ]
  },
  {
   "cell_type": "code",
   "execution_count": null,
   "metadata": {
    "colab": {},
    "colab_type": "code",
    "id": "i1k4CNG12RXN"
   },
   "outputs": [],
   "source": [
    "NUM_WORKERS = 4\n",
    "BATCH_SIZE = 16\n",
    "dataset.create_dataloaders(\n",
    "    model,\n",
    "    batch_size=BATCH_SIZE, \n",
    "    num_workers=NUM_WORKERS, \n",
    "    shuffle=True, \n",
    "    precompute_multi_scale=True \n",
    "    )"
   ]
  },
  {
   "cell_type": "code",
   "execution_count": null,
   "metadata": {
    "colab": {
     "base_uri": "https://localhost:8080/",
     "height": 34
    },
    "colab_type": "code",
    "id": "4wdS3y_aVIbm",
    "outputId": "e2dba960-dedf-4a45-dd64-d926e6f895e3"
   },
   "outputs": [],
   "source": [
    "sample = next(iter(dataset.train_dataloader))\n",
    "sample.keys"
   ]
  },
  {
   "cell_type": "markdown",
   "metadata": {
    "colab_type": "text",
    "id": "A5pl2g9ap1Fq"
   },
   "source": [
    "Our `sample` contains the pre computed spatial information in the `multiscale` (encoder side) and `upsample` (decoder) attrivutes. The decoder pre computing is quite simple and just involves some basic caching for the nearest neighbour interpolation operation. Let's take a look at the encoder side of things first. "
   ]
  },
  {
   "cell_type": "code",
   "execution_count": null,
   "metadata": {
    "colab": {
     "base_uri": "https://localhost:8080/",
     "height": 191
    },
    "colab_type": "code",
    "id": "z0o8yQF4FWvV",
    "outputId": "69e1f669-55e6-4d83-81d2-e6983717f144"
   },
   "outputs": [],
   "source": [
    "sample.multiscale"
   ]
  },
  {
   "cell_type": "markdown",
   "metadata": {
    "colab_type": "text",
    "id": "B-2bjfQyqUyH"
   },
   "source": [
    "`sample.multiscale` contains 10 different versions of the input batch, each one of these versions contains the location of the points in `pos` as well as the neighbours of these points in the previous point cloud. We will first look at the points coming out of each downsampling layer (strided convolution), we have 5 of them."
   ]
  },
  {
   "cell_type": "code",
   "execution_count": null,
   "metadata": {
    "cellView": "form",
    "colab": {
     "base_uri": "https://localhost:8080/",
     "height": 253
    },
    "colab_type": "code",
    "id": "qmR0S-F5qTvV",
    "outputId": "81156010-3a13-401b-9315-66833b1f6fdd"
   },
   "outputs": [],
   "source": [
    "#@title Successive downsampling {run:\"auto\"}\n",
    "sample_in_batch = 0 #@param {type:\"slider\", min:0, max:5, step:1}\n",
    "ms_data = sample.multiscale \n",
    "num_downsize = int(len(ms_data) / 2)\n",
    "p = pv.Plotter(notebook=True,shape=(1, num_downsize),window_size=[1024,256])\n",
    "for i in range(0,num_downsize):\n",
    "    p.subplot(0, i)\n",
    "    pos = ms_data[2*i].pos[ms_data[2*i].batch == sample_in_batch].numpy()\n",
    "    point_cloud = pv.PolyData(pos)\n",
    "    point_cloud['y'] = pos[:,1]\n",
    "    p.add_points(point_cloud,  show_scalar_bar=False, point_size=3)\n",
    "    p.add_text(\"Layer {}\".format(i+1),font_size=10)\n",
    "    p.camera_position = [-1,5, -10]\n",
    "p.show()"
   ]
  },
  {
   "cell_type": "markdown",
   "metadata": {
    "colab_type": "text",
    "id": "ONPofTEptKyL"
   },
   "source": [
    "Let's now take one point in a layer (query point) and show its neighbours in the previous layer (support point)"
   ]
  },
  {
   "cell_type": "code",
   "execution_count": null,
   "metadata": {
    "cellView": "form",
    "colab": {
     "base_uri": "https://localhost:8080/",
     "height": 396
    },
    "colab_type": "code",
    "id": "-uVmbA_OqDrg",
    "outputId": "110c84a1-9aec-4b27-f9ef-79f682047987"
   },
   "outputs": [],
   "source": [
    "#@title Explore Neighborhood {run: \"auto\"}\n",
    "selected_layer = 7 #@param {type:\"slider\", min:1, max:9, step:1}\n",
    "sample_in_batch = 0 #@param {type:\"slider\", min:0, max:5, step:1}\n",
    "point1_id = 46 #@param {type:\"slider\", min:0, max:600, step:1}\n",
    "point2_id =  0#@param {type:\"slider\", min:0, max:600, step:1}\n",
    "\n",
    "p = pv.Plotter(notebook=True,shape=(1, 2),window_size=[1024,412])\n",
    "\n",
    "# Selected layer\n",
    "p.subplot(0, 1)\n",
    "ms_data = sample.multiscale[selected_layer]\n",
    "pos = ms_data.pos[ms_data.batch == sample_in_batch].numpy()\n",
    "nei = ms_data.idx_neighboors[ms_data.batch == sample_in_batch]\n",
    "point_cloud = pv.PolyData(pos)\n",
    "p.add_points(point_cloud,  show_scalar_bar=False, point_size=3,opacity=0.3)\n",
    "p.add_points(pos[point1_id,:],  show_scalar_bar=False, point_size=7.0,color='red')\n",
    "p.add_points(pos[point2_id,:],  show_scalar_bar=False, point_size=7.0,color='green')\n",
    "p.camera_position = [-1,5, -10]\n",
    "\n",
    "# Previous layer\n",
    "p.subplot(0, 0)\n",
    "ms_data = sample.multiscale[selected_layer-1]\n",
    "pos = ms_data.pos[ms_data.batch == sample_in_batch].numpy()\n",
    "point_cloud = pv.PolyData(pos)\n",
    "p.add_points(point_cloud,  show_scalar_bar=False,point_size=3, opacity=0.3)\n",
    "nei_pos = ms_data.pos[nei[point1_id]].numpy()\n",
    "nei_pos = nei_pos[nei[point1_id] >= 0]\n",
    "p.add_points(nei_pos,  show_scalar_bar=False, point_size=3.0,color='red')\n",
    "nei_pos = ms_data.pos[nei[point2_id]].numpy()\n",
    "nei_pos = nei_pos[nei[point2_id] >= 0]\n",
    "p.add_points(nei_pos,  show_scalar_bar=False, point_size=3.0,color='green')\n",
    "p.camera_position = [-1,5, -10]\n",
    "\n",
    "p.show()"
   ]
  },
  {
   "cell_type": "markdown",
   "metadata": {
    "colab_type": "text",
    "id": "OsOeG_VXW5lC"
   },
   "source": [
    "## Training loop"
   ]
  },
  {
   "cell_type": "code",
   "execution_count": null,
   "metadata": {
    "colab": {},
    "colab_type": "code",
    "id": "Hg3O2swzW7if"
   },
   "outputs": [],
   "source": [
    "from tqdm.auto import tqdm\n",
    "import time\n",
    "\n",
    "class Trainer:\n",
    "    def __init__(self,model, dataset, num_epoch = 50, device=torch.device('cuda')):\n",
    "        self.num_epoch = num_epoch\n",
    "        self._model = model\n",
    "        self._dataset=dataset\n",
    "        self.device = device\n",
    "\n",
    "    def fit(self):\n",
    "        self.optimizer = torch.optim.Adam(self._model.parameters(), lr=0.001)\n",
    "        self.tracker = self._dataset.get_tracker(False, True)\n",
    "\n",
    "        for i in range(self.num_epoch):\n",
    "            print(\"=========== EPOCH %i ===========\" % i)\n",
    "            time.sleep(0.5)\n",
    "            self.train_epoch()\n",
    "            self.tracker.publish(i)\n",
    "            self.test_epoch()\n",
    "            self.tracker.publish(i)\n",
    "\n",
    "    def train_epoch(self):\n",
    "        self._model.to(self.device)\n",
    "        self._model.train()\n",
    "        self.tracker.reset(\"train\")\n",
    "        train_loader = self._dataset.train_dataloader\n",
    "        iter_data_time = time.time()\n",
    "        with tqdm(train_loader) as tq_train_loader:\n",
    "            for i, data in enumerate(tq_train_loader):\n",
    "                t_data = time.time() - iter_data_time\n",
    "                iter_start_time = time.time()\n",
    "                self.optimizer.zero_grad()\n",
    "                data.to(self.device)\n",
    "                self._model.forward(data)\n",
    "                self._model.backward()\n",
    "                self.optimizer.step()\n",
    "                if i % 10 == 0:\n",
    "                    self.tracker.track(self._model)\n",
    "\n",
    "                tq_train_loader.set_postfix(\n",
    "                    **self.tracker.get_metrics(),\n",
    "                    data_loading=float(t_data),\n",
    "                    iteration=float(time.time() - iter_start_time),\n",
    "                )\n",
    "                iter_data_time = time.time()\n",
    "\n",
    "    def test_epoch(self):\n",
    "        self._model.to(self.device)\n",
    "        self._model.eval()\n",
    "        self.tracker.reset(\"test\")\n",
    "        test_loader = self._dataset.test_dataloaders[0]\n",
    "        iter_data_time = time.time()\n",
    "        with tqdm(test_loader) as tq_test_loader:\n",
    "            for i, data in enumerate(tq_test_loader):\n",
    "                t_data = time.time() - iter_data_time\n",
    "                iter_start_time = time.time()\n",
    "                data.to(self.device)\n",
    "                self._model.forward(data)           \n",
    "                self.tracker.track(self._model)\n",
    "\n",
    "                tq_test_loader.set_postfix(\n",
    "                    **self.tracker.get_metrics(),\n",
    "                    data_loading=float(t_data),\n",
    "                    iteration=float(time.time() - iter_start_time),\n",
    "                )\n",
    "                iter_data_time = time.time()"
   ]
  },
  {
   "cell_type": "code",
   "execution_count": null,
   "metadata": {
    "colab": {},
    "colab_type": "code",
    "id": "xFaIG1SBchHg"
   },
   "outputs": [],
   "source": [
    "trainer = Trainer(model, dataset)"
   ]
  },
  {
   "cell_type": "code",
   "execution_count": null,
   "metadata": {
    "colab": {
     "base_uri": "https://localhost:8080/",
     "height": 1000,
     "referenced_widgets": [
      "640a3b9d186548568e5195ee34474335",
      "263328d35e75422bbcb939a417e41754",
      "c9acf8a449a3427eb9e631d0b7962fc5",
      "afb6005db0d44ea39fbdd41d199a70b0",
      "61a0a222870f479bba5db33a7a4b3738",
      "3e261a4c3c3c4943be0a2f280d5cd1fe",
      "b0725ab9530940ca8221b55c7a731c06",
      "6ff78a1d684244bcb06220e0bb0b6cb8",
      "702a74fa448349109df04aa78340de2c",
      "4471179cb7e94466b7045b296d32edaf",
      "b530eb9ce97f4c8fa8d8475777be1329",
      "a88348ebba444203b7b7714bf3861878",
      "669bf82ac1ae40d1bca4332b225a1ab2",
      "b05ca505ada6468ebdf973c091435b6a",
      "ac06597e5ab9400a8997a7c2e197e1c5",
      "53dd163f28264629a5bd1f7d74e09a20",
      "1d59af46a36e4d609cda2011e8a185cc",
      "d79df911625a4b40a81ee7bb06256d6d",
      "ed4104c85db34cbd80707f9a2a635b81",
      "f8b527cd13d14f009c93878002e189fe",
      "cb4e05313a6644c28c0b21edc62ebd48",
      "464427cb07774af79d50c3586590617d",
      "de61c04987a745aaa20c98002c3c720a",
      "da8e9428e64941a787af26239ea4ba9d",
      "837711166cdf4a35845f39e9e14ef24d",
      "e70d92f6775a41ff89ee58bfd552f3f9",
      "d9f16cb8f56540e6a19a18db01576ec1",
      "c81c4f481e374cadb1c5fb3983b4abb8",
      "1ff3d8643f704830b5da8b6844543aab",
      "acf6d2fafeb141aeb73f28f2a2c277cb",
      "c237c5fb7ee04e1a83621556f063144e",
      "3909ac8a3ea24e4087f4f0a007bfe3ec",
      "b5c8be12ce424ba8aa3ab517370ae6c3",
      "b699fde5e3fd4e0e8ec0b9bf6a894e44",
      "2d21886044b347adb5481cc6c3e71fa5",
      "995dc973837f4b1dbf5f67e54c146a9b",
      "78777ed2c39c475297235f2cbd25246f",
      "463479b32ee4450c9821b403d43ba846",
      "491d1fb1442c41e98e54ded695e4fc67",
      "17f6c34253614a4c95604a926066afe2",
      "8e8fbfa89e054d1a850acaf5ec235e8e",
      "47589c05913540fdb256b422d33e5d5f",
      "34eb706bcf214011a34c13779bd719f2",
      "75d128c9a2db403890117b47001cadaa",
      "208fa0d26dec47a58a3b42391c9cb732",
      "fa430421067d475895c0c921ffa020fe",
      "c1c7ca9c3656461c851db0a28dce9413",
      "7157efd081c7488f831129f838754f5e",
      "048263c0c2754c2baf0ece5b42b3d1f0",
      "fdf9b6e46c6f4d90b6ce4908e94a7985",
      "2045d68ee53d443b92f24442265b82ea",
      "20a2af98076f411d83a03de2192b9dab",
      "092af31fe68e454bb2ffd9a0945a736c",
      "246b9b2288d24c628ab24b5f13377d29",
      "9bd583e1b4634b7d90ee6f510e622d92",
      "da87691d2d4941389a7da4926184015a",
      "a2611a500eb14a84800e64aa87097284",
      "aadbc314e8594b43a75d873a91326fc7",
      "61131fe30f6d4a5ba5e284fd944187c7",
      "772bcf37db1a4662b8374529e932bd40",
      "35d7ea1f180e4972b738eadf0caa6d2b",
      "7714ab2f72b24138b042fff50d12b270",
      "82af1c5560714cfcadab8b950efd187e",
      "d440452f75434524ba9eeba9c12f8d86",
      "a8f4d86510734a45b2796a3520ad2b7f",
      "8d080d51af6240ed96b4369557d62453",
      "c1c323cc707b41b79689e02f366f15d1",
      "35ea014ae0c84028a582418ae7d4b6d9",
      "8a1080424416418f9286a289641a9c37",
      "5c211a0de4034d269384bbeae671e310",
      "60204570f3cd4269928dada4ffe58de1",
      "b333860cfe3640d39b8bd9bb489336b3",
      "63926000e7d9472caeef90865b2fa15a",
      "c19a160a417146338f22051e74bf5140",
      "dffcf660f13c450f99db0763002e67ed",
      "1a86658c954348f78cc648508cad31e3",
      "ef2a1cdd59f842b9a3a6b66c9f6c7db1",
      "7665d6f3bd9944659c8c762f4069edee",
      "efa1af2e490d4449aa8fd8296144bcfc",
      "76208529f0be48f3b9bbda46d3b9ffcb",
      "c7c62fbaff6848bea8b48ae1daadecca",
      "11242e9511684cc7a4a3b15880b3d80b",
      "6aa6c38bd83144d28d6395174d94ae4d",
      "45d8801065bf49cd9bf5a3a35d6e74d0",
      "18f174b7093249dea851bc08e4a45c80",
      "00f798eddfc648b995cf51b819968e8a",
      "763fbbbc204c47d7915a00c82922edeb",
      "36f664bb3584451eac512884c3ceb734",
      "0003e841f1a34b2f93ee03b62ae277a0",
      "067c413883b74cb786a756af6708c6cd",
      "5733fa5eef62494d91069f3792c9ecaa",
      "bab12e2d424b439a8e44b23e8d907904",
      "42db91a1afe541e297988e8030092e8d",
      "ca0117e0409046e6990ee0fc08f064c6",
      "326f59e983ed4076a2dbf00fa68af889",
      "b64191951c8f4a318203b868c2fd88ad",
      "562e649b12454e2a868b71e54010e9f5",
      "28a1f6d948094d3d84dc7421644ced56",
      "80103e1fc98c4ade989b3330688a8c19",
      "05a2aed6ffea4b3b86f6404eb098cd25",
      "5b2f49c6fbe9492981ee1d86c3eb2567",
      "e0e67323942d4bb1b19b324554f21251",
      "0441816e35bb4fcfb69b55b216f01e6c",
      "c30012bfdfbe4528b5c5d65899ecade7",
      "6fe844212c7e4e11813f408baba894f5",
      "78e082017c2b45c3ac91cb3a01b47258",
      "be6ba8c718f4437db630c3ed359427d6",
      "206b8620ce854753ab9c9e65a9446ebf",
      "eaf570c98bdf4074985c5ba8d7c9758e",
      "6feb173a672a453a8c3158b370545e68",
      "35b5ad98f72641d285c2797326517ca3",
      "8c2c23bcc1594d489160aaef6b349370",
      "093d9906e54e482c963f457b525a4b46",
      "b11295717e584e0ba229de64999a7999",
      "6279ba422fa14132b2df947de1ca4135",
      "98a1835c477043208b37a7cac5536797",
      "a7a0ce78c3ce41c2ab5b8dff5a25adcf",
      "ffa025dbfac844e583495adf12e010ad",
      "b260b6ff15fa4f04ae30675057bdc268",
      "d2a9d4aebba94a8aaf20d61b642a051e",
      "0ff0d7e63f7b4934890a5e5055ba0699",
      "91664da6c9dc46d5b40250087ed064dc",
      "fdf2bf25cb054c60bb09bd7fdc32ecc7",
      "2ef0e678f82747218cce8c3766fec6dc",
      "2e334a3b4b434c3ea6e28adba450bf24",
      "5f02800e3b3a4540921e6864d5fcd57b",
      "244f3b987276445ca5affd3954278874",
      "ef0c2f1d70c64304b15b5ae1dce73bb3",
      "86321bbf907241358f77b7e44c47e4ca",
      "5d99375915ff42b2b99865a2279b1ed7",
      "afb70300aa9a41b7b0504abcdef0713d",
      "f80815b476d844c49a16202e9538bae3",
      "e938604a4e5e4f31ba356c5797dfcdae",
      "423a5e99452a457593145ea2cec4e62f",
      "a00e8617a09c4ebe985eddecdd46d336",
      "65b7b3d4a5f6455781388b5fad30d072",
      "0c597e3c1ee745a2b955141a453ba9ae",
      "12f3c024fad840a7a2bfe3caea72e599",
      "650fe8d77d9a42778c367f7ffca06d83",
      "3136d8d57d4741eb9848700f9a6f5908",
      "f638f3ff175c4bef8bcbfc09ef818005",
      "b89acac6578940c5bc9e972e8ec72a1f",
      "fdee8e1e2d454683845a45fc74931e07",
      "cbe4e749c6944f93ab4262b7c09ab6d7",
      "57e9121c00a44a1e88452621a5884c8f",
      "1dee42a8b3db4075bbffc6175e30e895",
      "29d8069012c34725aac03d5d0903e819",
      "93b71dbe3fef4e6396a68582d89e1466",
      "801863c5364a4d2ebba0fdeaccb04228",
      "af833570d48c46b783fa588927dc6f30",
      "9fb74a2039b44d6aa33d1fb79413eb8e",
      "a5c0db13b5134c7ab88248b6ec0d4208",
      "3f2ded60e00840dbb933c1c02147135b",
      "35d8525211cd48e08c278f2500d2faff",
      "66b2a9efe1dd48d688683fd0754d4394",
      "8068b82f5ad843d38241dd9da01f62b4",
      "0c161a05383d4cbb94d56e222eb89256",
      "ac733f8d6f8248aa8fdd7528ef2434db",
      "b907d2d892be4e8e94a8636fa43cdc69",
      "fa730f7fb4e54100be3dbb739e3c9706",
      "b143e461b1214eb4ae13d25c7d8cc470",
      "2112be7a2691476bb468e224a3780434",
      "cd6fdf1159f44b93951fbde6a0c5ff1f",
      "d7e034197b444c3284558c764da930c9",
      "e7e8e31a14884de88b5a8ceafbf9565a",
      "17d5f4d30ce943d69b4f9087935f97ee",
      "1110b47364304b3bb857a7a7a6db55e6",
      "710438f17b2d46eea1d982e977b3f103",
      "19fc5762d6db4e60bebecbe00144daad",
      "c2966323b2ce4f8b8ca07db47bfb793c",
      "0047e68275034742922d99d507acdbef",
      "6031a66446f44fd9a31d5e5cc67682c0",
      "ccdf92017ee747489fd0dc0f51bdb4a0",
      "2243cdc5abcd4dd6bbe0161a69e6615e",
      "e03213bf9ec1473e99ad6351034dc992",
      "e5d54b27e3b74917b1fb9ac668d7c326",
      "407808e6f6884626acf1294f09aa026a",
      "a7a4df0d17504e569322383b917de8eb",
      "1ae2e26e5ac94a63940f05b28815a273",
      "0ad80e74012f4a639a7f9fdb9de44642",
      "e86a533d4f364bc68e058777090fa465",
      "d36bf3aeb7cf4e518e205c56254a0af5",
      "bd4c56876cc14d888a85fdff1ddf364f",
      "b4d88e30f2e642a2af100fbe7a161d3a"
     ]
    },
    "colab_type": "code",
    "id": "ydhhP0CdcqO1",
    "outputId": "13f5dbaf-5f8a-489c-a8ba-b602658cdaae"
   },
   "outputs": [],
   "source": [
    "trainer.fit()"
   ]
  },
  {
   "cell_type": "code",
   "execution_count": null,
   "metadata": {
    "colab": {},
    "colab_type": "code",
    "id": "Y69S3OsL2UKL"
   },
   "outputs": [],
   "source": [
    "%load_ext tensorboard\n",
    "%tensorboard --logdir lightning_logs/version_4/ # Change for your log location"
   ]
  },
  {
   "cell_type": "code",
   "execution_count": null,
   "metadata": {
    "colab": {},
    "colab_type": "code",
    "id": "tiXF_nwx7VCl"
   },
   "outputs": [],
   "source": []
  }
 ],
 "metadata": {
  "accelerator": "GPU",
  "colab": {
   "authorship_tag": "ABX9TyOQamUbax/C7uZWlVQNlNi7",
   "collapsed_sections": [],
   "include_colab_link": true,
   "machine_shape": "hm",
   "name": "PartSegmentationKPConv.ipynb",
   "provenance": [],
   "toc_visible": true
  },
  "kernelspec": {
   "display_name": "Python 3",
   "name": "python3"
  }
 },
 "nbformat": 4,
 "nbformat_minor": 0
}
