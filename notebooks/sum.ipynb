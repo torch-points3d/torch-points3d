{
 "cells": [
  {
   "cell_type": "markdown",
   "source": [
    "# SUM vizualisation"
   ],
   "metadata": {}
  },
  {
   "cell_type": "code",
   "execution_count": null,
   "source": [
    "%load_ext autoreload\n",
    "%autoreload 2\n",
    "import os\n",
    "import sys\n",
    "import panel as pn\n",
    "import numpy as np\n",
    "import pyvista as pv\n",
    "import glob\n",
    "from matplotlib.colors import ListedColormap\n",
    "from omegaconf import OmegaConf\n",
    "\n",
    "pn.extension('vtk')\n",
    "os.system('/usr/bin/Xvfb :99 -screen 0 1024x768x24 &')\n",
    "os.environ['DISPLAY'] = ':99'\n",
    "os.environ['PYVISTA_OFF_SCREEN'] = 'True'\n",
    "os.environ['PYVISTA_USE_PANEL'] = 'True'"
   ],
   "outputs": [],
   "metadata": {}
  },
  {
   "cell_type": "code",
   "execution_count": null,
   "source": [
    "DIR = os.path.dirname(os.getcwd())\n",
    "ROOT = os.path.join(DIR, \"..\")\n",
    "sys.path.insert(0, ROOT)\n",
    "sys.path.insert(0, DIR)\n",
    "from torch_points3d.datasets.segmentation.sum import SUMDataset\n",
    "from torch_points3d.datasets.segmentation import IGNORE_LABEL"
   ],
   "outputs": [],
   "metadata": {}
  },
  {
   "cell_type": "markdown",
   "source": [
    "## Load SUM dataset"
   ],
   "metadata": {}
  },
  {
   "cell_type": "code",
   "execution_count": null,
   "source": [
    "DIR = os.path.dirname(os.getcwd())\n",
    "dataset_options = OmegaConf.create()\n",
    "dataset_options.data = OmegaConf.load(os.path.join(DIR,'conf/data/segmentation/sum.yaml'))"
   ],
   "outputs": [],
   "metadata": {}
  },
  {
   "cell_type": "code",
   "execution_count": null,
   "source": [
    "dataset_options.data.dataroot = os.path.join(DIR,\"data\")\n",
    "dataset = SUMDataset(dataset_options.data)\n",
    "print(dataset)"
   ],
   "outputs": [],
   "metadata": {}
  },
  {
   "cell_type": "markdown",
   "source": [
    "## Visualise the data"
   ],
   "metadata": {}
  },
  {
   "cell_type": "code",
   "execution_count": null,
   "source": [
    "OBJECT_COLOR = [\n",
    "        [233, 229, 107],  #'ceiling' .-> .yellow\n",
    "        [95, 156, 196],  #'floor' .-> . blue\n",
    "        [179, 116, 81],  #'wall'  ->  brown\n",
    "        [241, 149, 131],  #'beam'  ->  salmon\n",
    "        [81, 163, 148],  #'column'  ->  bluegreen\n",
    "        [77, 174, 84],  #'window'  ->  bright green\n",
    "        [108, 135, 75],  #'door'   ->  dark green\n",
    "        [41, 49, 101],  #'chair'  ->  darkblue\n",
    "        [79, 79, 76],  #'table'  ->  dark grey\n",
    "        [223, 52, 52],  #'bookcase'  ->  red\n",
    "        [89, 47, 95],  #'sofa'  ->  purple\n",
    "        [81, 109, 114],  #'board'   ->  grey\n",
    "        [233, 233, 229],  #'clutter'  ->  light grey\n",
    "        [0, 0, 0],  # unlabelled .->. black\n",
    "    ]\n",
    "def buil_cmap():\n",
    "    mapping = np.linspace(0, len(OBJECT_COLOR), 256)\n",
    "    newcolors = np.zeros((256, 3))\n",
    "    for i, color in enumerate(OBJECT_COLOR):\n",
    "        newcolors[mapping >= i-0.5] = np.asarray(color) / 255.\n",
    "    return ListedColormap(newcolors)\n",
    "cmap = buil_cmap()"
   ],
   "outputs": [],
   "metadata": {}
  },
  {
   "cell_type": "code",
   "execution_count": null,
   "source": [
    "def load_random_data(event):\n",
    "    i = np.random.randint(0, len(dataset.train_dataset))\n",
    "    sample = dataset.train_dataset[i]\n",
    "    xyz = sample.pos.numpy()\n",
    "    pl = pv.Plotter(notebook=True)\n",
    "    point_cloud = pv.PolyData(xyz)\n",
    "    point_cloud['label'] = sample.y.numpy()\n",
    "    pl.add_points(point_cloud,cmap=cmap, clim=[0, len(OBJECT_COLOR)]) \n",
    "    \n",
    "    pan.object = pl.ren_win\n",
    "    return point_cloud"
   ],
   "outputs": [],
   "metadata": {}
  },
  {
   "cell_type": "code",
   "execution_count": null,
   "source": [
    "pl = pv.Plotter(notebook=True)\n",
    "pan = pn.panel(pl.ren_win, sizing_mode='scale_both', aspect_ratio=1,orientation_widget=True,)"
   ],
   "outputs": [],
   "metadata": {}
  },
  {
   "cell_type": "code",
   "execution_count": null,
   "source": [
    "button = pn.widgets.Button(name='Load new model', button_type='primary')\n",
    "button.on_click(load_random_data)"
   ],
   "outputs": [],
   "metadata": {}
  },
  {
   "cell_type": "code",
   "execution_count": null,
   "source": [
    "dashboard = pn.Row(\n",
    "    pn.Column('## S3DIS visualiser',button),\n",
    "    pan\n",
    ")"
   ],
   "outputs": [],
   "metadata": {}
  },
  {
   "cell_type": "code",
   "execution_count": null,
   "source": [
    "dashboard"
   ],
   "outputs": [],
   "metadata": {}
  },
  {
   "cell_type": "markdown",
   "source": [
    "## Validation dataset"
   ],
   "metadata": {}
  },
  {
   "cell_type": "code",
   "execution_count": null,
   "source": [
    "i = 3\n",
    "area = dataset.val_dataset[i]\n",
    "xyz = area.pos.numpy()\n",
    "pl = pv.Plotter(notebook=True)\n",
    "point_cloud = pv.PolyData(xyz)\n",
    "point_cloud['label'] = area.y.numpy()\n",
    "pl.add_points(point_cloud,cmap=cmap, clim=[0, len(OBJECT_COLOR)]) \n",
    "pl.show()"
   ],
   "outputs": [],
   "metadata": {}
  },
  {
   "cell_type": "markdown",
   "source": [
    "## Train dataset"
   ],
   "metadata": {}
  },
  {
   "cell_type": "code",
   "execution_count": null,
   "source": [
    "i = 3\n",
    "area = dataset.train_dataset._datas[i]\n",
    "xyz = area.pos.numpy()\n",
    "pl = pv.Plotter(notebook=True)\n",
    "point_cloud = pv.PolyData(xyz)\n",
    "point_cloud['label'] = area.y.numpy()\n",
    "pl.add_points(point_cloud,cmap=cmap, clim=[0, len(OBJECT_COLOR)]) \n",
    "pl.show()"
   ],
   "outputs": [],
   "metadata": {}
  },
  {
   "cell_type": "code",
   "execution_count": null,
   "source": [
    "i = 3\n",
    "area = dataset.trainval_dataset._datas[i]\n",
    "xyz = area.pos.numpy()\n",
    "pl = pv.Plotter(notebook=True)\n",
    "point_cloud = pv.PolyData(xyz)\n",
    "point_cloud['label'] = area.y.numpy()\n",
    "pl.add_points(point_cloud,cmap=cmap, clim=[0, len(OBJECT_COLOR)]) \n",
    "pl.show()"
   ],
   "outputs": [],
   "metadata": {}
  },
  {
   "cell_type": "markdown",
   "source": [
    "# Dataset verification"
   ],
   "metadata": {}
  },
  {
   "cell_type": "code",
   "execution_count": null,
   "source": [
    "DIR = os.path.dirname(os.getcwd())\n",
    "ROOT = os.path.join(DIR, \"..\")\n",
    "sys.path.insert(0, ROOT)\n",
    "sys.path.insert(0, DIR)\n",
    "from torch_points3d.datasets.segmentation.sum import SUMPointCloudDataset\n",
    "from torch_geometric.data import DataLoader"
   ],
   "outputs": [],
   "metadata": {}
  },
  {
   "cell_type": "code",
   "execution_count": null,
   "source": [
    "dataset = SUMPointCloudDataset(\n",
    "    \"../data/sum\",\n",
    "    length = 100,\n",
    "    cloud_size = 4092,\n",
    "    process_workers=42\n",
    ")"
   ],
   "outputs": [],
   "metadata": {}
  },
  {
   "cell_type": "code",
   "execution_count": null,
   "source": [
    "loader = DataLoader(dataset, batch_size=100, shuffle=False)"
   ],
   "outputs": [],
   "metadata": {}
  },
  {
   "cell_type": "code",
   "execution_count": null,
   "source": [
    "from torch import unique\n",
    "\n",
    "while True:\n",
    "    batch = next(iter(loader))\n",
    "    value, count = unique(batch.y, sorted=True, return_counts=True)\n",
    "    print(value)\n",
    "    print(count)"
   ],
   "outputs": [],
   "metadata": {}
  },
  {
   "cell_type": "code",
   "execution_count": 5,
   "source": [
    "from plyfile import PlyData, PlyElement\n",
    "import numpy as np\n",
    "\n",
    "dataset = SUMPointCloudDataset(\n",
    "    \"../data/sum\",\n",
    "    length = 1,\n",
    "    cloud_size = -1,\n",
    "    process_workers=42\n",
    ")\n",
    "\n",
    "data = dataset[0]\n",
    "\n",
    "vertex = np.empty(data.num_nodes,dtype=[('x', '>f8'), ('y', '>f8'), ('z', '>f8'), ('nx', '>f8'), ('ny', '>f8'), ('nz', '>f8'), ('red', 'uint8'), ('green', 'uint8'), ('blue', 'uint8'), ('l', 'uint8')])\n",
    "vertex[\"x\"] = data.pos[:,0].numpy()\n",
    "vertex[\"y\"] = data.pos[:,1].numpy()\n",
    "vertex[\"z\"] = data.pos[:,2].numpy()\n",
    "vertex[\"nx\"] = data.normal[:,0].numpy()\n",
    "vertex[\"ny\"] = data.normal[:,1].numpy()\n",
    "vertex[\"nz\"] = data.normal[:,2].numpy()\n",
    "vertex[\"red\"] = (data.rgb[:,0].numpy()*255).astype(np.uint8)\n",
    "vertex[\"green\"] = (data.rgb[:,1].numpy()*255).astype(np.uint8)\n",
    "vertex[\"blue\"] = (data.rgb[:,2].numpy()*255).astype(np.uint8)\n",
    "vertex[\"l\"] = data.y.numpy().astype(np.uint8)\n",
    "el = PlyElement.describe(vertex, 'vertex')\n",
    "PlyData([el]).write('test.ply')"
   ],
   "outputs": [
    {
     "output_type": "stream",
     "name": "stderr",
     "text": [
      "/home/ggrzeczkowicz/.local/anaconda3/envs/pyTorch-Points3D/lib/python3.8/site-packages/torch_geometric/data/dataset.py:145: UserWarning: The `pre_transform` argument differs from the one used in the pre-processed version of this dataset. If you want to make use of another pre-processing technique, make sure to sure to delete '../data/sum/processed' first\n",
      "  warnings.warn(\n"
     ]
    }
   ],
   "metadata": {}
  }
 ],
 "metadata": {
  "kernelspec": {
   "name": "python3",
   "display_name": "Python 3.8.11 64-bit ('pyTorch-Points3D': conda)"
  },
  "language_info": {
   "codemirror_mode": {
    "name": "ipython",
    "version": 3
   },
   "file_extension": ".py",
   "mimetype": "text/x-python",
   "name": "python",
   "nbconvert_exporter": "python",
   "pygments_lexer": "ipython3",
   "version": "3.8.11"
  },
  "interpreter": {
   "hash": "02aacde1069a987b0544cbad6f8d135b20931a80be3f4514e0c0f84afd42ef08"
  }
 },
 "nbformat": 4,
 "nbformat_minor": 4
}